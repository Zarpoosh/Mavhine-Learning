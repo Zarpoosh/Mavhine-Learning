{
 "cells": [
  {
   "cell_type": "code",
   "execution_count": 1,
   "id": "f92108b5-916c-4136-ad1a-30bc67ecf08a",
   "metadata": {},
   "outputs": [],
   "source": [
    "import numpy as np\n",
    "import matplotlib.pyplot as plt\n",
    "%matplotlib inline"
   ]
  },
  {
   "cell_type": "code",
   "execution_count": null,
   "id": "f1857a47-a2ae-47c5-bd01-22f865a911b5",
   "metadata": {},
   "outputs": [],
   "source": [
    "x=x=np.arange(-5.0, 5.0, 0.1)\n",
    "\n",
    "y =2*(x) +3\n",
    "y_nois=2*no.random.normal(size*x.size)\n",
    "ydata=y+y_nois"
   ]
  }
 ],
 "metadata": {
  "kernelspec": {
   "display_name": "Python 3 (ipykernel)",
   "language": "python",
   "name": "python3"
  },
  "language_info": {
   "codemirror_mode": {
    "name": "ipython",
    "version": 3
   },
   "file_extension": ".py",
   "mimetype": "text/x-python",
   "name": "python",
   "nbconvert_exporter": "python",
   "pygments_lexer": "ipython3",
   "version": "3.12.3"
  }
 },
 "nbformat": 4,
 "nbformat_minor": 5
}
