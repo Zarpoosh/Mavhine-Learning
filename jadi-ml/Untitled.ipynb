{
 "cells": [
  {
   "cell_type": "markdown",
   "id": "cf47d3e5-e750-471a-a813-72875032ba37",
   "metadata": {},
   "source": [
    "# Non-linear regression "
   ]
  },
  {
   "cell_type": "code",
   "execution_count": null,
   "id": "dc813111-9438-4ee6-b2fd-0075719ee68c",
   "metadata": {},
   "outputs": [],
   "source": []
  }
 ],
 "metadata": {
  "kernelspec": {
   "display_name": "Python 3 (ipykernel)",
   "language": "python",
   "name": "python3"
  },
  "language_info": {
   "codemirror_mode": {
    "name": "ipython",
    "version": 3
   },
   "file_extension": ".py",
   "mimetype": "text/x-python",
   "name": "python",
   "nbconvert_exporter": "python",
   "pygments_lexer": "ipython3",
   "version": "3.12.3"
  }
 },
 "nbformat": 4,
 "nbformat_minor": 5
}
