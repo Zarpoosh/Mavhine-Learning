{
 "cells": [
  {
   "cell_type": "code",
   "execution_count": 1,
   "id": "10e7232b-b2da-436d-988f-6abb73ba5069",
   "metadata": {},
   "outputs": [
    {
     "name": "stdout",
     "output_type": "stream",
     "text": [
      "Collecting jupyterlab-lsp\n",
      "  Downloading jupyterlab_lsp-5.1.0-py3-none-any.whl.metadata (12 kB)\n",
      "Requirement already satisfied: jupyter-lsp>=2.0.0 in c:\\users\\40222473118\\appdata\\local\\programs\\python\\python312\\lib\\site-packages (from jupyterlab-lsp) (2.2.5)\n",
      "Requirement already satisfied: jupyterlab<5.0.0a0,>=4.1.0 in c:\\users\\40222473118\\appdata\\local\\programs\\python\\python312\\lib\\site-packages (from jupyterlab-lsp) (4.4.1)\n",
      "Requirement already satisfied: async-lru>=1.0.0 in c:\\users\\40222473118\\appdata\\local\\programs\\python\\python312\\lib\\site-packages (from jupyterlab<5.0.0a0,>=4.1.0->jupyterlab-lsp) (2.0.5)\n",
      "Requirement already satisfied: httpx>=0.25.0 in c:\\users\\40222473118\\appdata\\local\\programs\\python\\python312\\lib\\site-packages (from jupyterlab<5.0.0a0,>=4.1.0->jupyterlab-lsp) (0.28.1)\n",
      "Requirement already satisfied: ipykernel>=6.5.0 in c:\\users\\40222473118\\appdata\\local\\programs\\python\\python312\\lib\\site-packages (from jupyterlab<5.0.0a0,>=4.1.0->jupyterlab-lsp) (6.29.5)\n",
      "Requirement already satisfied: jinja2>=3.0.3 in c:\\users\\40222473118\\appdata\\local\\programs\\python\\python312\\lib\\site-packages (from jupyterlab<5.0.0a0,>=4.1.0->jupyterlab-lsp) (3.1.6)\n",
      "Requirement already satisfied: jupyter-core in c:\\users\\40222473118\\appdata\\local\\programs\\python\\python312\\lib\\site-packages (from jupyterlab<5.0.0a0,>=4.1.0->jupyterlab-lsp) (5.7.2)\n",
      "Requirement already satisfied: jupyter-server<3,>=2.4.0 in c:\\users\\40222473118\\appdata\\local\\programs\\python\\python312\\lib\\site-packages (from jupyterlab<5.0.0a0,>=4.1.0->jupyterlab-lsp) (2.15.0)\n",
      "Requirement already satisfied: jupyterlab-server<3,>=2.27.1 in c:\\users\\40222473118\\appdata\\local\\programs\\python\\python312\\lib\\site-packages (from jupyterlab<5.0.0a0,>=4.1.0->jupyterlab-lsp) (2.27.3)\n",
      "Requirement already satisfied: notebook-shim>=0.2 in c:\\users\\40222473118\\appdata\\local\\programs\\python\\python312\\lib\\site-packages (from jupyterlab<5.0.0a0,>=4.1.0->jupyterlab-lsp) (0.2.4)\n",
      "Requirement already satisfied: packaging in c:\\users\\40222473118\\appdata\\local\\programs\\python\\python312\\lib\\site-packages (from jupyterlab<5.0.0a0,>=4.1.0->jupyterlab-lsp) (25.0)\n",
      "Requirement already satisfied: setuptools>=41.1.0 in c:\\users\\40222473118\\appdata\\local\\programs\\python\\python312\\lib\\site-packages (from jupyterlab<5.0.0a0,>=4.1.0->jupyterlab-lsp) (80.3.1)\n",
      "Requirement already satisfied: tornado>=6.2.0 in c:\\users\\40222473118\\appdata\\local\\programs\\python\\python312\\lib\\site-packages (from jupyterlab<5.0.0a0,>=4.1.0->jupyterlab-lsp) (6.4.2)\n",
      "Requirement already satisfied: traitlets in c:\\users\\40222473118\\appdata\\local\\programs\\python\\python312\\lib\\site-packages (from jupyterlab<5.0.0a0,>=4.1.0->jupyterlab-lsp) (5.14.3)\n",
      "Requirement already satisfied: anyio>=3.1.0 in c:\\users\\40222473118\\appdata\\local\\programs\\python\\python312\\lib\\site-packages (from jupyter-server<3,>=2.4.0->jupyterlab<5.0.0a0,>=4.1.0->jupyterlab-lsp) (4.9.0)\n",
      "Requirement already satisfied: argon2-cffi>=21.1 in c:\\users\\40222473118\\appdata\\local\\programs\\python\\python312\\lib\\site-packages (from jupyter-server<3,>=2.4.0->jupyterlab<5.0.0a0,>=4.1.0->jupyterlab-lsp) (23.1.0)\n",
      "Requirement already satisfied: jupyter-client>=7.4.4 in c:\\users\\40222473118\\appdata\\local\\programs\\python\\python312\\lib\\site-packages (from jupyter-server<3,>=2.4.0->jupyterlab<5.0.0a0,>=4.1.0->jupyterlab-lsp) (8.6.3)\n",
      "Requirement already satisfied: jupyter-events>=0.11.0 in c:\\users\\40222473118\\appdata\\local\\programs\\python\\python312\\lib\\site-packages (from jupyter-server<3,>=2.4.0->jupyterlab<5.0.0a0,>=4.1.0->jupyterlab-lsp) (0.12.0)\n",
      "Requirement already satisfied: jupyter-server-terminals>=0.4.4 in c:\\users\\40222473118\\appdata\\local\\programs\\python\\python312\\lib\\site-packages (from jupyter-server<3,>=2.4.0->jupyterlab<5.0.0a0,>=4.1.0->jupyterlab-lsp) (0.5.3)\n",
      "Requirement already satisfied: nbconvert>=6.4.4 in c:\\users\\40222473118\\appdata\\local\\programs\\python\\python312\\lib\\site-packages (from jupyter-server<3,>=2.4.0->jupyterlab<5.0.0a0,>=4.1.0->jupyterlab-lsp) (7.16.6)\n",
      "Requirement already satisfied: nbformat>=5.3.0 in c:\\users\\40222473118\\appdata\\local\\programs\\python\\python312\\lib\\site-packages (from jupyter-server<3,>=2.4.0->jupyterlab<5.0.0a0,>=4.1.0->jupyterlab-lsp) (5.10.4)\n",
      "Requirement already satisfied: overrides>=5.0 in c:\\users\\40222473118\\appdata\\local\\programs\\python\\python312\\lib\\site-packages (from jupyter-server<3,>=2.4.0->jupyterlab<5.0.0a0,>=4.1.0->jupyterlab-lsp) (7.7.0)\n",
      "Requirement already satisfied: prometheus-client>=0.9 in c:\\users\\40222473118\\appdata\\local\\programs\\python\\python312\\lib\\site-packages (from jupyter-server<3,>=2.4.0->jupyterlab<5.0.0a0,>=4.1.0->jupyterlab-lsp) (0.21.1)\n",
      "Requirement already satisfied: pywinpty>=2.0.1 in c:\\users\\40222473118\\appdata\\local\\programs\\python\\python312\\lib\\site-packages (from jupyter-server<3,>=2.4.0->jupyterlab<5.0.0a0,>=4.1.0->jupyterlab-lsp) (2.0.15)\n",
      "Requirement already satisfied: pyzmq>=24 in c:\\users\\40222473118\\appdata\\local\\programs\\python\\python312\\lib\\site-packages (from jupyter-server<3,>=2.4.0->jupyterlab<5.0.0a0,>=4.1.0->jupyterlab-lsp) (26.4.0)\n",
      "Requirement already satisfied: send2trash>=1.8.2 in c:\\users\\40222473118\\appdata\\local\\programs\\python\\python312\\lib\\site-packages (from jupyter-server<3,>=2.4.0->jupyterlab<5.0.0a0,>=4.1.0->jupyterlab-lsp) (1.8.3)\n",
      "Requirement already satisfied: terminado>=0.8.3 in c:\\users\\40222473118\\appdata\\local\\programs\\python\\python312\\lib\\site-packages (from jupyter-server<3,>=2.4.0->jupyterlab<5.0.0a0,>=4.1.0->jupyterlab-lsp) (0.18.1)\n",
      "Requirement already satisfied: websocket-client>=1.7 in c:\\users\\40222473118\\appdata\\local\\programs\\python\\python312\\lib\\site-packages (from jupyter-server<3,>=2.4.0->jupyterlab<5.0.0a0,>=4.1.0->jupyterlab-lsp) (1.8.0)\n",
      "Requirement already satisfied: babel>=2.10 in c:\\users\\40222473118\\appdata\\local\\programs\\python\\python312\\lib\\site-packages (from jupyterlab-server<3,>=2.27.1->jupyterlab<5.0.0a0,>=4.1.0->jupyterlab-lsp) (2.17.0)\n",
      "Requirement already satisfied: json5>=0.9.0 in c:\\users\\40222473118\\appdata\\local\\programs\\python\\python312\\lib\\site-packages (from jupyterlab-server<3,>=2.27.1->jupyterlab<5.0.0a0,>=4.1.0->jupyterlab-lsp) (0.12.0)\n",
      "Requirement already satisfied: jsonschema>=4.18.0 in c:\\users\\40222473118\\appdata\\local\\programs\\python\\python312\\lib\\site-packages (from jupyterlab-server<3,>=2.27.1->jupyterlab<5.0.0a0,>=4.1.0->jupyterlab-lsp) (4.23.0)\n",
      "Requirement already satisfied: requests>=2.31 in c:\\users\\40222473118\\appdata\\local\\programs\\python\\python312\\lib\\site-packages (from jupyterlab-server<3,>=2.27.1->jupyterlab<5.0.0a0,>=4.1.0->jupyterlab-lsp) (2.32.3)\n",
      "Requirement already satisfied: idna>=2.8 in c:\\users\\40222473118\\appdata\\local\\programs\\python\\python312\\lib\\site-packages (from anyio>=3.1.0->jupyter-server<3,>=2.4.0->jupyterlab<5.0.0a0,>=4.1.0->jupyterlab-lsp) (3.10)\n",
      "Requirement already satisfied: sniffio>=1.1 in c:\\users\\40222473118\\appdata\\local\\programs\\python\\python312\\lib\\site-packages (from anyio>=3.1.0->jupyter-server<3,>=2.4.0->jupyterlab<5.0.0a0,>=4.1.0->jupyterlab-lsp) (1.3.1)\n",
      "Requirement already satisfied: typing_extensions>=4.5 in c:\\users\\40222473118\\appdata\\local\\programs\\python\\python312\\lib\\site-packages (from anyio>=3.1.0->jupyter-server<3,>=2.4.0->jupyterlab<5.0.0a0,>=4.1.0->jupyterlab-lsp) (4.13.2)\n",
      "Requirement already satisfied: argon2-cffi-bindings in c:\\users\\40222473118\\appdata\\local\\programs\\python\\python312\\lib\\site-packages (from argon2-cffi>=21.1->jupyter-server<3,>=2.4.0->jupyterlab<5.0.0a0,>=4.1.0->jupyterlab-lsp) (21.2.0)\n",
      "Requirement already satisfied: certifi in c:\\users\\40222473118\\appdata\\local\\programs\\python\\python312\\lib\\site-packages (from httpx>=0.25.0->jupyterlab<5.0.0a0,>=4.1.0->jupyterlab-lsp) (2025.4.26)\n",
      "Requirement already satisfied: httpcore==1.* in c:\\users\\40222473118\\appdata\\local\\programs\\python\\python312\\lib\\site-packages (from httpx>=0.25.0->jupyterlab<5.0.0a0,>=4.1.0->jupyterlab-lsp) (1.0.9)\n",
      "Requirement already satisfied: h11>=0.16 in c:\\users\\40222473118\\appdata\\local\\programs\\python\\python312\\lib\\site-packages (from httpcore==1.*->httpx>=0.25.0->jupyterlab<5.0.0a0,>=4.1.0->jupyterlab-lsp) (0.16.0)\n",
      "Requirement already satisfied: comm>=0.1.1 in c:\\users\\40222473118\\appdata\\local\\programs\\python\\python312\\lib\\site-packages (from ipykernel>=6.5.0->jupyterlab<5.0.0a0,>=4.1.0->jupyterlab-lsp) (0.2.2)\n",
      "Requirement already satisfied: debugpy>=1.6.5 in c:\\users\\40222473118\\appdata\\local\\programs\\python\\python312\\lib\\site-packages (from ipykernel>=6.5.0->jupyterlab<5.0.0a0,>=4.1.0->jupyterlab-lsp) (1.8.14)\n",
      "Requirement already satisfied: ipython>=7.23.1 in c:\\users\\40222473118\\appdata\\local\\programs\\python\\python312\\lib\\site-packages (from ipykernel>=6.5.0->jupyterlab<5.0.0a0,>=4.1.0->jupyterlab-lsp) (9.2.0)\n",
      "Requirement already satisfied: matplotlib-inline>=0.1 in c:\\users\\40222473118\\appdata\\local\\programs\\python\\python312\\lib\\site-packages (from ipykernel>=6.5.0->jupyterlab<5.0.0a0,>=4.1.0->jupyterlab-lsp) (0.1.7)\n",
      "Requirement already satisfied: nest-asyncio in c:\\users\\40222473118\\appdata\\local\\programs\\python\\python312\\lib\\site-packages (from ipykernel>=6.5.0->jupyterlab<5.0.0a0,>=4.1.0->jupyterlab-lsp) (1.6.0)\n",
      "Requirement already satisfied: psutil in c:\\users\\40222473118\\appdata\\local\\programs\\python\\python312\\lib\\site-packages (from ipykernel>=6.5.0->jupyterlab<5.0.0a0,>=4.1.0->jupyterlab-lsp) (7.0.0)\n",
      "Requirement already satisfied: colorama in c:\\users\\40222473118\\appdata\\local\\programs\\python\\python312\\lib\\site-packages (from ipython>=7.23.1->ipykernel>=6.5.0->jupyterlab<5.0.0a0,>=4.1.0->jupyterlab-lsp) (0.4.6)\n",
      "Requirement already satisfied: decorator in c:\\users\\40222473118\\appdata\\local\\programs\\python\\python312\\lib\\site-packages (from ipython>=7.23.1->ipykernel>=6.5.0->jupyterlab<5.0.0a0,>=4.1.0->jupyterlab-lsp) (5.2.1)\n",
      "Requirement already satisfied: ipython-pygments-lexers in c:\\users\\40222473118\\appdata\\local\\programs\\python\\python312\\lib\\site-packages (from ipython>=7.23.1->ipykernel>=6.5.0->jupyterlab<5.0.0a0,>=4.1.0->jupyterlab-lsp) (1.1.1)\n",
      "Requirement already satisfied: jedi>=0.16 in c:\\users\\40222473118\\appdata\\local\\programs\\python\\python312\\lib\\site-packages (from ipython>=7.23.1->ipykernel>=6.5.0->jupyterlab<5.0.0a0,>=4.1.0->jupyterlab-lsp) (0.19.2)\n",
      "Requirement already satisfied: prompt_toolkit<3.1.0,>=3.0.41 in c:\\users\\40222473118\\appdata\\local\\programs\\python\\python312\\lib\\site-packages (from ipython>=7.23.1->ipykernel>=6.5.0->jupyterlab<5.0.0a0,>=4.1.0->jupyterlab-lsp) (3.0.51)\n",
      "Requirement already satisfied: pygments>=2.4.0 in c:\\users\\40222473118\\appdata\\local\\programs\\python\\python312\\lib\\site-packages (from ipython>=7.23.1->ipykernel>=6.5.0->jupyterlab<5.0.0a0,>=4.1.0->jupyterlab-lsp) (2.19.1)\n",
      "Requirement already satisfied: stack_data in c:\\users\\40222473118\\appdata\\local\\programs\\python\\python312\\lib\\site-packages (from ipython>=7.23.1->ipykernel>=6.5.0->jupyterlab<5.0.0a0,>=4.1.0->jupyterlab-lsp) (0.6.3)\n",
      "Requirement already satisfied: wcwidth in c:\\users\\40222473118\\appdata\\local\\programs\\python\\python312\\lib\\site-packages (from prompt_toolkit<3.1.0,>=3.0.41->ipython>=7.23.1->ipykernel>=6.5.0->jupyterlab<5.0.0a0,>=4.1.0->jupyterlab-lsp) (0.2.13)\n",
      "Requirement already satisfied: parso<0.9.0,>=0.8.4 in c:\\users\\40222473118\\appdata\\local\\programs\\python\\python312\\lib\\site-packages (from jedi>=0.16->ipython>=7.23.1->ipykernel>=6.5.0->jupyterlab<5.0.0a0,>=4.1.0->jupyterlab-lsp) (0.8.4)\n",
      "Requirement already satisfied: MarkupSafe>=2.0 in c:\\users\\40222473118\\appdata\\local\\programs\\python\\python312\\lib\\site-packages (from jinja2>=3.0.3->jupyterlab<5.0.0a0,>=4.1.0->jupyterlab-lsp) (3.0.2)\n",
      "Requirement already satisfied: attrs>=22.2.0 in c:\\users\\40222473118\\appdata\\local\\programs\\python\\python312\\lib\\site-packages (from jsonschema>=4.18.0->jupyterlab-server<3,>=2.27.1->jupyterlab<5.0.0a0,>=4.1.0->jupyterlab-lsp) (25.3.0)\n",
      "Requirement already satisfied: jsonschema-specifications>=2023.03.6 in c:\\users\\40222473118\\appdata\\local\\programs\\python\\python312\\lib\\site-packages (from jsonschema>=4.18.0->jupyterlab-server<3,>=2.27.1->jupyterlab<5.0.0a0,>=4.1.0->jupyterlab-lsp) (2025.4.1)\n",
      "Requirement already satisfied: referencing>=0.28.4 in c:\\users\\40222473118\\appdata\\local\\programs\\python\\python312\\lib\\site-packages (from jsonschema>=4.18.0->jupyterlab-server<3,>=2.27.1->jupyterlab<5.0.0a0,>=4.1.0->jupyterlab-lsp) (0.36.2)\n",
      "Requirement already satisfied: rpds-py>=0.7.1 in c:\\users\\40222473118\\appdata\\local\\programs\\python\\python312\\lib\\site-packages (from jsonschema>=4.18.0->jupyterlab-server<3,>=2.27.1->jupyterlab<5.0.0a0,>=4.1.0->jupyterlab-lsp) (0.24.0)\n",
      "Requirement already satisfied: python-dateutil>=2.8.2 in c:\\users\\40222473118\\appdata\\local\\programs\\python\\python312\\lib\\site-packages (from jupyter-client>=7.4.4->jupyter-server<3,>=2.4.0->jupyterlab<5.0.0a0,>=4.1.0->jupyterlab-lsp) (2.9.0.post0)\n",
      "Requirement already satisfied: platformdirs>=2.5 in c:\\users\\40222473118\\appdata\\local\\programs\\python\\python312\\lib\\site-packages (from jupyter-core->jupyterlab<5.0.0a0,>=4.1.0->jupyterlab-lsp) (4.3.7)\n",
      "Requirement already satisfied: pywin32>=300 in c:\\users\\40222473118\\appdata\\local\\programs\\python\\python312\\lib\\site-packages (from jupyter-core->jupyterlab<5.0.0a0,>=4.1.0->jupyterlab-lsp) (310)\n",
      "Requirement already satisfied: python-json-logger>=2.0.4 in c:\\users\\40222473118\\appdata\\local\\programs\\python\\python312\\lib\\site-packages (from jupyter-events>=0.11.0->jupyter-server<3,>=2.4.0->jupyterlab<5.0.0a0,>=4.1.0->jupyterlab-lsp) (3.3.0)\n",
      "Requirement already satisfied: pyyaml>=5.3 in c:\\users\\40222473118\\appdata\\local\\programs\\python\\python312\\lib\\site-packages (from jupyter-events>=0.11.0->jupyter-server<3,>=2.4.0->jupyterlab<5.0.0a0,>=4.1.0->jupyterlab-lsp) (6.0.2)\n",
      "Requirement already satisfied: rfc3339-validator in c:\\users\\40222473118\\appdata\\local\\programs\\python\\python312\\lib\\site-packages (from jupyter-events>=0.11.0->jupyter-server<3,>=2.4.0->jupyterlab<5.0.0a0,>=4.1.0->jupyterlab-lsp) (0.1.4)\n",
      "Requirement already satisfied: rfc3986-validator>=0.1.1 in c:\\users\\40222473118\\appdata\\local\\programs\\python\\python312\\lib\\site-packages (from jupyter-events>=0.11.0->jupyter-server<3,>=2.4.0->jupyterlab<5.0.0a0,>=4.1.0->jupyterlab-lsp) (0.1.1)\n",
      "Requirement already satisfied: fqdn in c:\\users\\40222473118\\appdata\\local\\programs\\python\\python312\\lib\\site-packages (from jsonschema[format-nongpl]>=4.18.0->jupyter-events>=0.11.0->jupyter-server<3,>=2.4.0->jupyterlab<5.0.0a0,>=4.1.0->jupyterlab-lsp) (1.5.1)\n",
      "Requirement already satisfied: isoduration in c:\\users\\40222473118\\appdata\\local\\programs\\python\\python312\\lib\\site-packages (from jsonschema[format-nongpl]>=4.18.0->jupyter-events>=0.11.0->jupyter-server<3,>=2.4.0->jupyterlab<5.0.0a0,>=4.1.0->jupyterlab-lsp) (20.11.0)\n",
      "Requirement already satisfied: jsonpointer>1.13 in c:\\users\\40222473118\\appdata\\local\\programs\\python\\python312\\lib\\site-packages (from jsonschema[format-nongpl]>=4.18.0->jupyter-events>=0.11.0->jupyter-server<3,>=2.4.0->jupyterlab<5.0.0a0,>=4.1.0->jupyterlab-lsp) (3.0.0)\n",
      "Requirement already satisfied: uri-template in c:\\users\\40222473118\\appdata\\local\\programs\\python\\python312\\lib\\site-packages (from jsonschema[format-nongpl]>=4.18.0->jupyter-events>=0.11.0->jupyter-server<3,>=2.4.0->jupyterlab<5.0.0a0,>=4.1.0->jupyterlab-lsp) (1.3.0)\n",
      "Requirement already satisfied: webcolors>=24.6.0 in c:\\users\\40222473118\\appdata\\local\\programs\\python\\python312\\lib\\site-packages (from jsonschema[format-nongpl]>=4.18.0->jupyter-events>=0.11.0->jupyter-server<3,>=2.4.0->jupyterlab<5.0.0a0,>=4.1.0->jupyterlab-lsp) (24.11.1)\n",
      "Requirement already satisfied: beautifulsoup4 in c:\\users\\40222473118\\appdata\\local\\programs\\python\\python312\\lib\\site-packages (from nbconvert>=6.4.4->jupyter-server<3,>=2.4.0->jupyterlab<5.0.0a0,>=4.1.0->jupyterlab-lsp) (4.13.4)\n",
      "Requirement already satisfied: bleach!=5.0.0 in c:\\users\\40222473118\\appdata\\local\\programs\\python\\python312\\lib\\site-packages (from bleach[css]!=5.0.0->nbconvert>=6.4.4->jupyter-server<3,>=2.4.0->jupyterlab<5.0.0a0,>=4.1.0->jupyterlab-lsp) (6.2.0)\n",
      "Requirement already satisfied: defusedxml in c:\\users\\40222473118\\appdata\\local\\programs\\python\\python312\\lib\\site-packages (from nbconvert>=6.4.4->jupyter-server<3,>=2.4.0->jupyterlab<5.0.0a0,>=4.1.0->jupyterlab-lsp) (0.7.1)\n",
      "Requirement already satisfied: jupyterlab-pygments in c:\\users\\40222473118\\appdata\\local\\programs\\python\\python312\\lib\\site-packages (from nbconvert>=6.4.4->jupyter-server<3,>=2.4.0->jupyterlab<5.0.0a0,>=4.1.0->jupyterlab-lsp) (0.3.0)\n",
      "Requirement already satisfied: mistune<4,>=2.0.3 in c:\\users\\40222473118\\appdata\\local\\programs\\python\\python312\\lib\\site-packages (from nbconvert>=6.4.4->jupyter-server<3,>=2.4.0->jupyterlab<5.0.0a0,>=4.1.0->jupyterlab-lsp) (3.1.3)\n",
      "Requirement already satisfied: nbclient>=0.5.0 in c:\\users\\40222473118\\appdata\\local\\programs\\python\\python312\\lib\\site-packages (from nbconvert>=6.4.4->jupyter-server<3,>=2.4.0->jupyterlab<5.0.0a0,>=4.1.0->jupyterlab-lsp) (0.10.2)\n",
      "Requirement already satisfied: pandocfilters>=1.4.1 in c:\\users\\40222473118\\appdata\\local\\programs\\python\\python312\\lib\\site-packages (from nbconvert>=6.4.4->jupyter-server<3,>=2.4.0->jupyterlab<5.0.0a0,>=4.1.0->jupyterlab-lsp) (1.5.1)\n",
      "Requirement already satisfied: webencodings in c:\\users\\40222473118\\appdata\\local\\programs\\python\\python312\\lib\\site-packages (from bleach!=5.0.0->bleach[css]!=5.0.0->nbconvert>=6.4.4->jupyter-server<3,>=2.4.0->jupyterlab<5.0.0a0,>=4.1.0->jupyterlab-lsp) (0.5.1)\n",
      "Requirement already satisfied: tinycss2<1.5,>=1.1.0 in c:\\users\\40222473118\\appdata\\local\\programs\\python\\python312\\lib\\site-packages (from bleach[css]!=5.0.0->nbconvert>=6.4.4->jupyter-server<3,>=2.4.0->jupyterlab<5.0.0a0,>=4.1.0->jupyterlab-lsp) (1.4.0)\n",
      "Requirement already satisfied: fastjsonschema>=2.15 in c:\\users\\40222473118\\appdata\\local\\programs\\python\\python312\\lib\\site-packages (from nbformat>=5.3.0->jupyter-server<3,>=2.4.0->jupyterlab<5.0.0a0,>=4.1.0->jupyterlab-lsp) (2.21.1)\n",
      "Requirement already satisfied: six>=1.5 in c:\\users\\40222473118\\appdata\\local\\programs\\python\\python312\\lib\\site-packages (from python-dateutil>=2.8.2->jupyter-client>=7.4.4->jupyter-server<3,>=2.4.0->jupyterlab<5.0.0a0,>=4.1.0->jupyterlab-lsp) (1.17.0)\n",
      "Requirement already satisfied: charset-normalizer<4,>=2 in c:\\users\\40222473118\\appdata\\local\\programs\\python\\python312\\lib\\site-packages (from requests>=2.31->jupyterlab-server<3,>=2.27.1->jupyterlab<5.0.0a0,>=4.1.0->jupyterlab-lsp) (3.4.2)\n",
      "Requirement already satisfied: urllib3<3,>=1.21.1 in c:\\users\\40222473118\\appdata\\local\\programs\\python\\python312\\lib\\site-packages (from requests>=2.31->jupyterlab-server<3,>=2.27.1->jupyterlab<5.0.0a0,>=4.1.0->jupyterlab-lsp) (2.4.0)\n",
      "Requirement already satisfied: cffi>=1.0.1 in c:\\users\\40222473118\\appdata\\local\\programs\\python\\python312\\lib\\site-packages (from argon2-cffi-bindings->argon2-cffi>=21.1->jupyter-server<3,>=2.4.0->jupyterlab<5.0.0a0,>=4.1.0->jupyterlab-lsp) (1.17.1)\n",
      "Requirement already satisfied: pycparser in c:\\users\\40222473118\\appdata\\local\\programs\\python\\python312\\lib\\site-packages (from cffi>=1.0.1->argon2-cffi-bindings->argon2-cffi>=21.1->jupyter-server<3,>=2.4.0->jupyterlab<5.0.0a0,>=4.1.0->jupyterlab-lsp) (2.22)\n",
      "Requirement already satisfied: soupsieve>1.2 in c:\\users\\40222473118\\appdata\\local\\programs\\python\\python312\\lib\\site-packages (from beautifulsoup4->nbconvert>=6.4.4->jupyter-server<3,>=2.4.0->jupyterlab<5.0.0a0,>=4.1.0->jupyterlab-lsp) (2.7)\n",
      "Requirement already satisfied: arrow>=0.15.0 in c:\\users\\40222473118\\appdata\\local\\programs\\python\\python312\\lib\\site-packages (from isoduration->jsonschema[format-nongpl]>=4.18.0->jupyter-events>=0.11.0->jupyter-server<3,>=2.4.0->jupyterlab<5.0.0a0,>=4.1.0->jupyterlab-lsp) (1.3.0)\n",
      "Requirement already satisfied: types-python-dateutil>=2.8.10 in c:\\users\\40222473118\\appdata\\local\\programs\\python\\python312\\lib\\site-packages (from arrow>=0.15.0->isoduration->jsonschema[format-nongpl]>=4.18.0->jupyter-events>=0.11.0->jupyter-server<3,>=2.4.0->jupyterlab<5.0.0a0,>=4.1.0->jupyterlab-lsp) (2.9.0.20241206)\n",
      "Requirement already satisfied: executing>=1.2.0 in c:\\users\\40222473118\\appdata\\local\\programs\\python\\python312\\lib\\site-packages (from stack_data->ipython>=7.23.1->ipykernel>=6.5.0->jupyterlab<5.0.0a0,>=4.1.0->jupyterlab-lsp) (2.2.0)\n",
      "Requirement already satisfied: asttokens>=2.1.0 in c:\\users\\40222473118\\appdata\\local\\programs\\python\\python312\\lib\\site-packages (from stack_data->ipython>=7.23.1->ipykernel>=6.5.0->jupyterlab<5.0.0a0,>=4.1.0->jupyterlab-lsp) (3.0.0)\n",
      "Requirement already satisfied: pure-eval in c:\\users\\40222473118\\appdata\\local\\programs\\python\\python312\\lib\\site-packages (from stack_data->ipython>=7.23.1->ipykernel>=6.5.0->jupyterlab<5.0.0a0,>=4.1.0->jupyterlab-lsp) (0.2.3)\n",
      "Downloading jupyterlab_lsp-5.1.0-py3-none-any.whl (1.6 MB)\n",
      "   ---------------------------------------- 0.0/1.6 MB ? eta -:--:--\n",
      "   ---------------------------------------- 0.0/1.6 MB ? eta -:--:--\n",
      "   ------------- -------------------------- 0.5/1.6 MB 2.8 MB/s eta 0:00:01\n",
      "   ---------------------------------------- 1.6/1.6 MB 5.2 MB/s eta 0:00:00\n",
      "Installing collected packages: jupyterlab-lsp\n",
      "Successfully installed jupyterlab-lsp-5.1.0\n"
     ]
    }
   ],
   "source": [
    "!pip install jupyterlab-lsp\n"
   ]
  },
  {
   "cell_type": "code",
   "execution_count": 18,
   "id": "4e1db065-0c31-40a8-92c0-39a2b4c7cf08",
   "metadata": {},
   "outputs": [],
   "source": [
    "y_true=[1,1,0,0,1,0,0,0,1,1]\n",
    "y_pre=[1,1,1,0,1,0,0,0,1,1]\n"
   ]
  },
  {
   "cell_type": "code",
   "execution_count": 19,
   "id": "4f671d32-58b6-46b8-baf3-27326c2c91da",
   "metadata": {},
   "outputs": [
    {
     "data": {
      "text/plain": [
       "90.0"
      ]
     },
     "execution_count": 19,
     "metadata": {},
     "output_type": "execute_result"
    }
   ],
   "source": [
    "from sklearn.metrics import accuracy_score\n",
    "acc=accuracy_score(y_true , y_pre)\n",
    "acc*100"
   ]
  },
  {
   "cell_type": "code",
   "execution_count": 20,
   "id": "ec3fbc9f-f607-4226-8932-300f353ff52d",
   "metadata": {},
   "outputs": [
    {
     "data": {
      "text/plain": [
       "83.33333333333334"
      ]
     },
     "execution_count": 20,
     "metadata": {},
     "output_type": "execute_result"
    }
   ],
   "source": [
    "from sklearn.metrics import precision_score\n",
    "pr=precision_score(y_true , y_pre)\n",
    "pr*100"
   ]
  },
  {
   "cell_type": "code",
   "execution_count": 21,
   "id": "06629405-6231-445e-a9e2-e152f966c8e1",
   "metadata": {},
   "outputs": [
    {
     "data": {
      "text/plain": [
       "100.0"
      ]
     },
     "execution_count": 21,
     "metadata": {},
     "output_type": "execute_result"
    }
   ],
   "source": [
    "from sklearn.metrics import recall_score\n",
    "r=recall_score(y_true , y_pre)\n",
    "r*100"
   ]
  },
  {
   "cell_type": "code",
   "execution_count": null,
   "id": "d3a7aee8-3a0d-42db-a76c-f37de8814a76",
   "metadata": {},
   "outputs": [],
   "source": []
  }
 ],
 "metadata": {
  "kernelspec": {
   "display_name": "Python 3 (ipykernel)",
   "language": "python",
   "name": "python3"
  },
  "language_info": {
   "codemirror_mode": {
    "name": "ipython",
    "version": 3
   },
   "file_extension": ".py",
   "mimetype": "text/x-python",
   "name": "python",
   "nbconvert_exporter": "python",
   "pygments_lexer": "ipython3",
   "version": "3.12.3"
  }
 },
 "nbformat": 4,
 "nbformat_minor": 5
}
