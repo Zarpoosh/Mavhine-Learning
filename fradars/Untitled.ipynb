{
 "cells": [
  {
   "cell_type": "code",
   "execution_count": 1,
   "id": "34ef9e1d-9d0f-4b17-b095-e6683e4118d9",
   "metadata": {},
   "outputs": [],
   "source": [
    "import numpy  as np \n",
    "\n",
    "import pandas as pd \n",
    "import matplotlib.pyplot as plt\n",
    "import seaborn as sns"
   ]
  },
  {
   "cell_type": "code",
   "execution_count": 2,
   "id": "c16a6dd1-a7ad-4b65-8904-f336b5bd6197",
   "metadata": {},
   "outputs": [
    {
     "data": {
      "text/html": [
       "<div>\n",
       "<style scoped>\n",
       "    .dataframe tbody tr th:only-of-type {\n",
       "        vertical-align: middle;\n",
       "    }\n",
       "\n",
       "    .dataframe tbody tr th {\n",
       "        vertical-align: top;\n",
       "    }\n",
       "\n",
       "    .dataframe thead th {\n",
       "        text-align: right;\n",
       "    }\n",
       "</style>\n",
       "<table border=\"1\" class=\"dataframe\">\n",
       "  <thead>\n",
       "    <tr style=\"text-align: right;\">\n",
       "      <th></th>\n",
       "      <th>index</th>\n",
       "      <th>longitude</th>\n",
       "      <th>latitude</th>\n",
       "      <th>housing_median_age</th>\n",
       "      <th>total_rooms</th>\n",
       "      <th>total_bedrooms</th>\n",
       "      <th>population</th>\n",
       "      <th>households</th>\n",
       "      <th>median_income</th>\n",
       "      <th>median_house_value</th>\n",
       "      <th>ocean_proximity</th>\n",
       "    </tr>\n",
       "  </thead>\n",
       "  <tbody>\n",
       "    <tr>\n",
       "      <th>0</th>\n",
       "      <td>0</td>\n",
       "      <td>-122.23</td>\n",
       "      <td>37.88</td>\n",
       "      <td>41.0</td>\n",
       "      <td>880.0</td>\n",
       "      <td>129.0</td>\n",
       "      <td>322.0</td>\n",
       "      <td>126.0</td>\n",
       "      <td>8.3252</td>\n",
       "      <td>452600.0</td>\n",
       "      <td>NEAR BAY</td>\n",
       "    </tr>\n",
       "    <tr>\n",
       "      <th>1</th>\n",
       "      <td>1</td>\n",
       "      <td>-122.22</td>\n",
       "      <td>37.86</td>\n",
       "      <td>21.0</td>\n",
       "      <td>7099.0</td>\n",
       "      <td>1106.0</td>\n",
       "      <td>2401.0</td>\n",
       "      <td>1138.0</td>\n",
       "      <td>8.3014</td>\n",
       "      <td>358500.0</td>\n",
       "      <td>NEAR BAY</td>\n",
       "    </tr>\n",
       "    <tr>\n",
       "      <th>2</th>\n",
       "      <td>2</td>\n",
       "      <td>-122.24</td>\n",
       "      <td>37.85</td>\n",
       "      <td>52.0</td>\n",
       "      <td>1467.0</td>\n",
       "      <td>190.0</td>\n",
       "      <td>496.0</td>\n",
       "      <td>177.0</td>\n",
       "      <td>7.2574</td>\n",
       "      <td>352100.0</td>\n",
       "      <td>NEAR BAY</td>\n",
       "    </tr>\n",
       "    <tr>\n",
       "      <th>3</th>\n",
       "      <td>3</td>\n",
       "      <td>-122.25</td>\n",
       "      <td>37.85</td>\n",
       "      <td>52.0</td>\n",
       "      <td>1274.0</td>\n",
       "      <td>235.0</td>\n",
       "      <td>558.0</td>\n",
       "      <td>219.0</td>\n",
       "      <td>5.6431</td>\n",
       "      <td>341300.0</td>\n",
       "      <td>NEAR BAY</td>\n",
       "    </tr>\n",
       "    <tr>\n",
       "      <th>4</th>\n",
       "      <td>4</td>\n",
       "      <td>-122.25</td>\n",
       "      <td>37.85</td>\n",
       "      <td>52.0</td>\n",
       "      <td>1627.0</td>\n",
       "      <td>280.0</td>\n",
       "      <td>565.0</td>\n",
       "      <td>259.0</td>\n",
       "      <td>3.8462</td>\n",
       "      <td>342200.0</td>\n",
       "      <td>NEAR BAY</td>\n",
       "    </tr>\n",
       "    <tr>\n",
       "      <th>...</th>\n",
       "      <td>...</td>\n",
       "      <td>...</td>\n",
       "      <td>...</td>\n",
       "      <td>...</td>\n",
       "      <td>...</td>\n",
       "      <td>...</td>\n",
       "      <td>...</td>\n",
       "      <td>...</td>\n",
       "      <td>...</td>\n",
       "      <td>...</td>\n",
       "      <td>...</td>\n",
       "    </tr>\n",
       "    <tr>\n",
       "      <th>20635</th>\n",
       "      <td>20635</td>\n",
       "      <td>-121.09</td>\n",
       "      <td>39.48</td>\n",
       "      <td>25.0</td>\n",
       "      <td>1665.0</td>\n",
       "      <td>374.0</td>\n",
       "      <td>845.0</td>\n",
       "      <td>330.0</td>\n",
       "      <td>1.5603</td>\n",
       "      <td>78100.0</td>\n",
       "      <td>INLAND</td>\n",
       "    </tr>\n",
       "    <tr>\n",
       "      <th>20636</th>\n",
       "      <td>20636</td>\n",
       "      <td>-121.21</td>\n",
       "      <td>39.49</td>\n",
       "      <td>18.0</td>\n",
       "      <td>697.0</td>\n",
       "      <td>150.0</td>\n",
       "      <td>356.0</td>\n",
       "      <td>114.0</td>\n",
       "      <td>2.5568</td>\n",
       "      <td>77100.0</td>\n",
       "      <td>INLAND</td>\n",
       "    </tr>\n",
       "    <tr>\n",
       "      <th>20637</th>\n",
       "      <td>20637</td>\n",
       "      <td>-121.22</td>\n",
       "      <td>39.43</td>\n",
       "      <td>17.0</td>\n",
       "      <td>2254.0</td>\n",
       "      <td>485.0</td>\n",
       "      <td>1007.0</td>\n",
       "      <td>433.0</td>\n",
       "      <td>1.7000</td>\n",
       "      <td>92300.0</td>\n",
       "      <td>INLAND</td>\n",
       "    </tr>\n",
       "    <tr>\n",
       "      <th>20638</th>\n",
       "      <td>20638</td>\n",
       "      <td>-121.32</td>\n",
       "      <td>39.43</td>\n",
       "      <td>18.0</td>\n",
       "      <td>1860.0</td>\n",
       "      <td>409.0</td>\n",
       "      <td>741.0</td>\n",
       "      <td>349.0</td>\n",
       "      <td>1.8672</td>\n",
       "      <td>84700.0</td>\n",
       "      <td>INLAND</td>\n",
       "    </tr>\n",
       "    <tr>\n",
       "      <th>20639</th>\n",
       "      <td>20639</td>\n",
       "      <td>-121.24</td>\n",
       "      <td>39.37</td>\n",
       "      <td>16.0</td>\n",
       "      <td>2785.0</td>\n",
       "      <td>616.0</td>\n",
       "      <td>1387.0</td>\n",
       "      <td>530.0</td>\n",
       "      <td>2.3886</td>\n",
       "      <td>89400.0</td>\n",
       "      <td>INLAND</td>\n",
       "    </tr>\n",
       "  </tbody>\n",
       "</table>\n",
       "<p>20640 rows × 11 columns</p>\n",
       "</div>"
      ],
      "text/plain": [
       "       index  longitude  latitude  housing_median_age  total_rooms  \\\n",
       "0          0    -122.23     37.88                41.0        880.0   \n",
       "1          1    -122.22     37.86                21.0       7099.0   \n",
       "2          2    -122.24     37.85                52.0       1467.0   \n",
       "3          3    -122.25     37.85                52.0       1274.0   \n",
       "4          4    -122.25     37.85                52.0       1627.0   \n",
       "...      ...        ...       ...                 ...          ...   \n",
       "20635  20635    -121.09     39.48                25.0       1665.0   \n",
       "20636  20636    -121.21     39.49                18.0        697.0   \n",
       "20637  20637    -121.22     39.43                17.0       2254.0   \n",
       "20638  20638    -121.32     39.43                18.0       1860.0   \n",
       "20639  20639    -121.24     39.37                16.0       2785.0   \n",
       "\n",
       "       total_bedrooms  population  households  median_income  \\\n",
       "0               129.0       322.0       126.0         8.3252   \n",
       "1              1106.0      2401.0      1138.0         8.3014   \n",
       "2               190.0       496.0       177.0         7.2574   \n",
       "3               235.0       558.0       219.0         5.6431   \n",
       "4               280.0       565.0       259.0         3.8462   \n",
       "...               ...         ...         ...            ...   \n",
       "20635           374.0       845.0       330.0         1.5603   \n",
       "20636           150.0       356.0       114.0         2.5568   \n",
       "20637           485.0      1007.0       433.0         1.7000   \n",
       "20638           409.0       741.0       349.0         1.8672   \n",
       "20639           616.0      1387.0       530.0         2.3886   \n",
       "\n",
       "       median_house_value ocean_proximity  \n",
       "0                452600.0        NEAR BAY  \n",
       "1                358500.0        NEAR BAY  \n",
       "2                352100.0        NEAR BAY  \n",
       "3                341300.0        NEAR BAY  \n",
       "4                342200.0        NEAR BAY  \n",
       "...                   ...             ...  \n",
       "20635             78100.0          INLAND  \n",
       "20636             77100.0          INLAND  \n",
       "20637             92300.0          INLAND  \n",
       "20638             84700.0          INLAND  \n",
       "20639             89400.0          INLAND  \n",
       "\n",
       "[20640 rows x 11 columns]"
      ]
     },
     "execution_count": 2,
     "metadata": {},
     "output_type": "execute_result"
    }
   ],
   "source": [
    "df=pd.read_csv(\"housing.csv\")\n",
    "df.reset_index()"
   ]
  },
  {
   "cell_type": "code",
   "execution_count": 3,
   "id": "98f787db-25aa-4593-8a8f-ae70c05fa38d",
   "metadata": {},
   "outputs": [
    {
     "data": {
      "text/plain": [
       "<bound method DataFrame.info of        longitude  latitude  housing_median_age  total_rooms  total_bedrooms  \\\n",
       "0        -122.23     37.88                41.0        880.0           129.0   \n",
       "1        -122.22     37.86                21.0       7099.0          1106.0   \n",
       "2        -122.24     37.85                52.0       1467.0           190.0   \n",
       "3        -122.25     37.85                52.0       1274.0           235.0   \n",
       "4        -122.25     37.85                52.0       1627.0           280.0   \n",
       "...          ...       ...                 ...          ...             ...   \n",
       "20635    -121.09     39.48                25.0       1665.0           374.0   \n",
       "20636    -121.21     39.49                18.0        697.0           150.0   \n",
       "20637    -121.22     39.43                17.0       2254.0           485.0   \n",
       "20638    -121.32     39.43                18.0       1860.0           409.0   \n",
       "20639    -121.24     39.37                16.0       2785.0           616.0   \n",
       "\n",
       "       population  households  median_income  median_house_value  \\\n",
       "0           322.0       126.0         8.3252            452600.0   \n",
       "1          2401.0      1138.0         8.3014            358500.0   \n",
       "2           496.0       177.0         7.2574            352100.0   \n",
       "3           558.0       219.0         5.6431            341300.0   \n",
       "4           565.0       259.0         3.8462            342200.0   \n",
       "...           ...         ...            ...                 ...   \n",
       "20635       845.0       330.0         1.5603             78100.0   \n",
       "20636       356.0       114.0         2.5568             77100.0   \n",
       "20637      1007.0       433.0         1.7000             92300.0   \n",
       "20638       741.0       349.0         1.8672             84700.0   \n",
       "20639      1387.0       530.0         2.3886             89400.0   \n",
       "\n",
       "      ocean_proximity  \n",
       "0            NEAR BAY  \n",
       "1            NEAR BAY  \n",
       "2            NEAR BAY  \n",
       "3            NEAR BAY  \n",
       "4            NEAR BAY  \n",
       "...               ...  \n",
       "20635          INLAND  \n",
       "20636          INLAND  \n",
       "20637          INLAND  \n",
       "20638          INLAND  \n",
       "20639          INLAND  \n",
       "\n",
       "[20640 rows x 10 columns]>"
      ]
     },
     "execution_count": 3,
     "metadata": {},
     "output_type": "execute_result"
    }
   ],
   "source": [
    "\n",
    "df.info"
   ]
  },
  {
   "cell_type": "code",
   "execution_count": 4,
   "id": "d3acc14c-0bd1-41e1-bd44-685d98acdaa6",
   "metadata": {},
   "outputs": [
    {
     "data": {
      "text/plain": [
       "ocean_proximity\n",
       "<1H OCEAN     9136\n",
       "INLAND        6551\n",
       "NEAR OCEAN    2658\n",
       "NEAR BAY      2290\n",
       "ISLAND           5\n",
       "Name: count, dtype: int64"
      ]
     },
     "execution_count": 4,
     "metadata": {},
     "output_type": "execute_result"
    }
   ],
   "source": [
    "df.ocean_proximity.value_counts()"
   ]
  },
  {
   "cell_type": "code",
   "execution_count": 5,
   "id": "a855db7d-2c60-47fe-869f-c05ead176e68",
   "metadata": {},
   "outputs": [
    {
     "data": {
      "text/html": [
       "<div>\n",
       "<style scoped>\n",
       "    .dataframe tbody tr th:only-of-type {\n",
       "        vertical-align: middle;\n",
       "    }\n",
       "\n",
       "    .dataframe tbody tr th {\n",
       "        vertical-align: top;\n",
       "    }\n",
       "\n",
       "    .dataframe thead th {\n",
       "        text-align: right;\n",
       "    }\n",
       "</style>\n",
       "<table border=\"1\" class=\"dataframe\">\n",
       "  <thead>\n",
       "    <tr style=\"text-align: right;\">\n",
       "      <th></th>\n",
       "      <th>longitude</th>\n",
       "      <th>latitude</th>\n",
       "      <th>housing_median_age</th>\n",
       "      <th>total_rooms</th>\n",
       "      <th>total_bedrooms</th>\n",
       "      <th>population</th>\n",
       "      <th>households</th>\n",
       "      <th>median_income</th>\n",
       "      <th>median_house_value</th>\n",
       "    </tr>\n",
       "  </thead>\n",
       "  <tbody>\n",
       "    <tr>\n",
       "      <th>count</th>\n",
       "      <td>20640.000000</td>\n",
       "      <td>20640.000000</td>\n",
       "      <td>20640.000000</td>\n",
       "      <td>20640.000000</td>\n",
       "      <td>20433.000000</td>\n",
       "      <td>20640.000000</td>\n",
       "      <td>20640.000000</td>\n",
       "      <td>20640.000000</td>\n",
       "      <td>20640.000000</td>\n",
       "    </tr>\n",
       "    <tr>\n",
       "      <th>mean</th>\n",
       "      <td>-119.569704</td>\n",
       "      <td>35.631861</td>\n",
       "      <td>28.639486</td>\n",
       "      <td>2635.763081</td>\n",
       "      <td>537.870553</td>\n",
       "      <td>1425.476744</td>\n",
       "      <td>499.539680</td>\n",
       "      <td>3.870671</td>\n",
       "      <td>206855.816909</td>\n",
       "    </tr>\n",
       "    <tr>\n",
       "      <th>std</th>\n",
       "      <td>2.003532</td>\n",
       "      <td>2.135952</td>\n",
       "      <td>12.585558</td>\n",
       "      <td>2181.615252</td>\n",
       "      <td>421.385070</td>\n",
       "      <td>1132.462122</td>\n",
       "      <td>382.329753</td>\n",
       "      <td>1.899822</td>\n",
       "      <td>115395.615874</td>\n",
       "    </tr>\n",
       "    <tr>\n",
       "      <th>min</th>\n",
       "      <td>-124.350000</td>\n",
       "      <td>32.540000</td>\n",
       "      <td>1.000000</td>\n",
       "      <td>2.000000</td>\n",
       "      <td>1.000000</td>\n",
       "      <td>3.000000</td>\n",
       "      <td>1.000000</td>\n",
       "      <td>0.499900</td>\n",
       "      <td>14999.000000</td>\n",
       "    </tr>\n",
       "    <tr>\n",
       "      <th>25%</th>\n",
       "      <td>-121.800000</td>\n",
       "      <td>33.930000</td>\n",
       "      <td>18.000000</td>\n",
       "      <td>1447.750000</td>\n",
       "      <td>296.000000</td>\n",
       "      <td>787.000000</td>\n",
       "      <td>280.000000</td>\n",
       "      <td>2.563400</td>\n",
       "      <td>119600.000000</td>\n",
       "    </tr>\n",
       "    <tr>\n",
       "      <th>50%</th>\n",
       "      <td>-118.490000</td>\n",
       "      <td>34.260000</td>\n",
       "      <td>29.000000</td>\n",
       "      <td>2127.000000</td>\n",
       "      <td>435.000000</td>\n",
       "      <td>1166.000000</td>\n",
       "      <td>409.000000</td>\n",
       "      <td>3.534800</td>\n",
       "      <td>179700.000000</td>\n",
       "    </tr>\n",
       "    <tr>\n",
       "      <th>75%</th>\n",
       "      <td>-118.010000</td>\n",
       "      <td>37.710000</td>\n",
       "      <td>37.000000</td>\n",
       "      <td>3148.000000</td>\n",
       "      <td>647.000000</td>\n",
       "      <td>1725.000000</td>\n",
       "      <td>605.000000</td>\n",
       "      <td>4.743250</td>\n",
       "      <td>264725.000000</td>\n",
       "    </tr>\n",
       "    <tr>\n",
       "      <th>max</th>\n",
       "      <td>-114.310000</td>\n",
       "      <td>41.950000</td>\n",
       "      <td>52.000000</td>\n",
       "      <td>39320.000000</td>\n",
       "      <td>6445.000000</td>\n",
       "      <td>35682.000000</td>\n",
       "      <td>6082.000000</td>\n",
       "      <td>15.000100</td>\n",
       "      <td>500001.000000</td>\n",
       "    </tr>\n",
       "  </tbody>\n",
       "</table>\n",
       "</div>"
      ],
      "text/plain": [
       "          longitude      latitude  housing_median_age   total_rooms  \\\n",
       "count  20640.000000  20640.000000        20640.000000  20640.000000   \n",
       "mean    -119.569704     35.631861           28.639486   2635.763081   \n",
       "std        2.003532      2.135952           12.585558   2181.615252   \n",
       "min     -124.350000     32.540000            1.000000      2.000000   \n",
       "25%     -121.800000     33.930000           18.000000   1447.750000   \n",
       "50%     -118.490000     34.260000           29.000000   2127.000000   \n",
       "75%     -118.010000     37.710000           37.000000   3148.000000   \n",
       "max     -114.310000     41.950000           52.000000  39320.000000   \n",
       "\n",
       "       total_bedrooms    population    households  median_income  \\\n",
       "count    20433.000000  20640.000000  20640.000000   20640.000000   \n",
       "mean       537.870553   1425.476744    499.539680       3.870671   \n",
       "std        421.385070   1132.462122    382.329753       1.899822   \n",
       "min          1.000000      3.000000      1.000000       0.499900   \n",
       "25%        296.000000    787.000000    280.000000       2.563400   \n",
       "50%        435.000000   1166.000000    409.000000       3.534800   \n",
       "75%        647.000000   1725.000000    605.000000       4.743250   \n",
       "max       6445.000000  35682.000000   6082.000000      15.000100   \n",
       "\n",
       "       median_house_value  \n",
       "count        20640.000000  \n",
       "mean        206855.816909  \n",
       "std         115395.615874  \n",
       "min          14999.000000  \n",
       "25%         119600.000000  \n",
       "50%         179700.000000  \n",
       "75%         264725.000000  \n",
       "max         500001.000000  "
      ]
     },
     "execution_count": 5,
     "metadata": {},
     "output_type": "execute_result"
    }
   ],
   "source": [
    "df.describe()"
   ]
  },
  {
   "cell_type": "code",
   "execution_count": 6,
   "id": "00be2d8a-f7d3-4a90-ba1a-985630414d5a",
   "metadata": {},
   "outputs": [
    {
     "data": {
      "text/plain": [
       "array([[<Axes: title={'center': 'longitude'}>,\n",
       "        <Axes: title={'center': 'latitude'}>,\n",
       "        <Axes: title={'center': 'housing_median_age'}>],\n",
       "       [<Axes: title={'center': 'total_rooms'}>,\n",
       "        <Axes: title={'center': 'total_bedrooms'}>,\n",
       "        <Axes: title={'center': 'population'}>],\n",
       "       [<Axes: title={'center': 'households'}>,\n",
       "        <Axes: title={'center': 'median_income'}>,\n",
       "        <Axes: title={'center': 'median_house_value'}>]], dtype=object)"
      ]
     },
     "execution_count": 6,
     "metadata": {},
     "output_type": "execute_result"
    },
    {
     "data": {
      "image/png": "[encoded data removed]",
      "text/plain": [
       "<Figure size 1100x700 with 9 Axes>"
      ]
     },
     "metadata": {},
     "output_type": "display_data"
    }
   ],
   "source": [
    "df.hist(bins=40 , figsize=(11,7))"
   ]
  },
  {
   "cell_type": "markdown",
   "id": "0f94bebe-5b39-49e2-ab01-63d92b7d89f3",
   "metadata": {},
   "source": [
    "# Test set"
   ]
  },
  {
   "cell_type": "code",
   "execution_count": 7,
   "id": "579e430a-06bf-47ab-8322-2940508e1b15",
   "metadata": {},
   "outputs": [],
   "source": [
    "def shuffle_and_split_df(df,testratio):\n",
    "    np.random.seed(40)    # تکرار پذیر میکنه رندوم رو \n",
    "    random_indices=np.random.permutation(len(df))\n",
    "    test_set_size=int(len(df)* testratio)\n",
    "    test_random_indices=random_indices[:test_set_size]\n",
    "    train_random_indices=random_indices[test_set_size:]\n",
    "    return df.iloc[test_random_indices]  , df.iloc[train_random_indices]"
   ]
  },
  {
   "cell_type": "code",
   "execution_count": 8,
   "id": "1a0d2087-bc80-46eb-8196-ec781eb87f70",
   "metadata": {},
   "outputs": [],
   "source": [
    "train_set , test_set=shuffle_and_split_df(df , 0.2)"
   ]
  },
  {
   "cell_type": "code",
   "execution_count": 9,
   "id": "99557972-5575-46a4-b96a-84a341e8719b",
   "metadata": {},
   "outputs": [
    {
     "data": {
      "text/html": [
       "<div>\n",
       "<style scoped>\n",
       "    .dataframe tbody tr th:only-of-type {\n",
       "        vertical-align: middle;\n",
       "    }\n",
       "\n",
       "    .dataframe tbody tr th {\n",
       "        vertical-align: top;\n",
       "    }\n",
       "\n",
       "    .dataframe thead th {\n",
       "        text-align: right;\n",
       "    }\n",
       "</style>\n",
       "<table border=\"1\" class=\"dataframe\">\n",
       "  <thead>\n",
       "    <tr style=\"text-align: right;\">\n",
       "      <th></th>\n",
       "      <th>longitude</th>\n",
       "      <th>latitude</th>\n",
       "      <th>housing_median_age</th>\n",
       "      <th>total_rooms</th>\n",
       "      <th>total_bedrooms</th>\n",
       "      <th>population</th>\n",
       "      <th>households</th>\n",
       "      <th>median_income</th>\n",
       "      <th>median_house_value</th>\n",
       "      <th>ocean_proximity</th>\n",
       "    </tr>\n",
       "  </thead>\n",
       "  <tbody>\n",
       "    <tr>\n",
       "      <th>9226</th>\n",
       "      <td>-120.04</td>\n",
       "      <td>36.93</td>\n",
       "      <td>11.0</td>\n",
       "      <td>3606.0</td>\n",
       "      <td>699.0</td>\n",
       "      <td>2074.0</td>\n",
       "      <td>644.0</td>\n",
       "      <td>2.6941</td>\n",
       "      <td>63300.0</td>\n",
       "      <td>INLAND</td>\n",
       "    </tr>\n",
       "    <tr>\n",
       "      <th>11826</th>\n",
       "      <td>-121.04</td>\n",
       "      <td>39.00</td>\n",
       "      <td>21.0</td>\n",
       "      <td>4059.0</td>\n",
       "      <td>730.0</td>\n",
       "      <td>1874.0</td>\n",
       "      <td>693.0</td>\n",
       "      <td>4.8051</td>\n",
       "      <td>174300.0</td>\n",
       "      <td>INLAND</td>\n",
       "    </tr>\n",
       "    <tr>\n",
       "      <th>4553</th>\n",
       "      <td>-118.24</td>\n",
       "      <td>34.06</td>\n",
       "      <td>33.0</td>\n",
       "      <td>390.0</td>\n",
       "      <td>199.0</td>\n",
       "      <td>435.0</td>\n",
       "      <td>193.0</td>\n",
       "      <td>1.1979</td>\n",
       "      <td>350000.0</td>\n",
       "      <td>&lt;1H OCEAN</td>\n",
       "    </tr>\n",
       "    <tr>\n",
       "      <th>10787</th>\n",
       "      <td>-117.92</td>\n",
       "      <td>33.64</td>\n",
       "      <td>25.0</td>\n",
       "      <td>2224.0</td>\n",
       "      <td>580.0</td>\n",
       "      <td>985.0</td>\n",
       "      <td>516.0</td>\n",
       "      <td>3.1305</td>\n",
       "      <td>268800.0</td>\n",
       "      <td>&lt;1H OCEAN</td>\n",
       "    </tr>\n",
       "    <tr>\n",
       "      <th>4104</th>\n",
       "      <td>-118.35</td>\n",
       "      <td>34.13</td>\n",
       "      <td>39.0</td>\n",
       "      <td>1610.0</td>\n",
       "      <td>278.0</td>\n",
       "      <td>511.0</td>\n",
       "      <td>278.0</td>\n",
       "      <td>4.3333</td>\n",
       "      <td>385900.0</td>\n",
       "      <td>&lt;1H OCEAN</td>\n",
       "    </tr>\n",
       "    <tr>\n",
       "      <th>...</th>\n",
       "      <td>...</td>\n",
       "      <td>...</td>\n",
       "      <td>...</td>\n",
       "      <td>...</td>\n",
       "      <td>...</td>\n",
       "      <td>...</td>\n",
       "      <td>...</td>\n",
       "      <td>...</td>\n",
       "      <td>...</td>\n",
       "      <td>...</td>\n",
       "    </tr>\n",
       "    <tr>\n",
       "      <th>11532</th>\n",
       "      <td>-118.09</td>\n",
       "      <td>33.77</td>\n",
       "      <td>26.0</td>\n",
       "      <td>5359.0</td>\n",
       "      <td>1508.0</td>\n",
       "      <td>1829.0</td>\n",
       "      <td>1393.0</td>\n",
       "      <td>1.7675</td>\n",
       "      <td>61300.0</td>\n",
       "      <td>&lt;1H OCEAN</td>\n",
       "    </tr>\n",
       "    <tr>\n",
       "      <th>16065</th>\n",
       "      <td>-122.48</td>\n",
       "      <td>37.75</td>\n",
       "      <td>49.0</td>\n",
       "      <td>2203.0</td>\n",
       "      <td>407.0</td>\n",
       "      <td>1052.0</td>\n",
       "      <td>405.0</td>\n",
       "      <td>4.4375</td>\n",
       "      <td>329200.0</td>\n",
       "      <td>NEAR BAY</td>\n",
       "    </tr>\n",
       "    <tr>\n",
       "      <th>14501</th>\n",
       "      <td>-117.23</td>\n",
       "      <td>32.86</td>\n",
       "      <td>16.0</td>\n",
       "      <td>1200.0</td>\n",
       "      <td>468.0</td>\n",
       "      <td>648.0</td>\n",
       "      <td>443.0</td>\n",
       "      <td>3.0450</td>\n",
       "      <td>100000.0</td>\n",
       "      <td>NEAR OCEAN</td>\n",
       "    </tr>\n",
       "    <tr>\n",
       "      <th>14555</th>\n",
       "      <td>-117.13</td>\n",
       "      <td>32.96</td>\n",
       "      <td>15.0</td>\n",
       "      <td>2267.0</td>\n",
       "      <td>292.0</td>\n",
       "      <td>1180.0</td>\n",
       "      <td>289.0</td>\n",
       "      <td>6.7120</td>\n",
       "      <td>240200.0</td>\n",
       "      <td>&lt;1H OCEAN</td>\n",
       "    </tr>\n",
       "    <tr>\n",
       "      <th>11590</th>\n",
       "      <td>-118.01</td>\n",
       "      <td>33.78</td>\n",
       "      <td>26.0</td>\n",
       "      <td>2343.0</td>\n",
       "      <td>377.0</td>\n",
       "      <td>1166.0</td>\n",
       "      <td>373.0</td>\n",
       "      <td>6.0000</td>\n",
       "      <td>233100.0</td>\n",
       "      <td>&lt;1H OCEAN</td>\n",
       "    </tr>\n",
       "  </tbody>\n",
       "</table>\n",
       "<p>16512 rows × 10 columns</p>\n",
       "</div>"
      ],
      "text/plain": [
       "       longitude  latitude  housing_median_age  total_rooms  total_bedrooms  \\\n",
       "9226     -120.04     36.93                11.0       3606.0           699.0   \n",
       "11826    -121.04     39.00                21.0       4059.0           730.0   \n",
       "4553     -118.24     34.06                33.0        390.0           199.0   \n",
       "10787    -117.92     33.64                25.0       2224.0           580.0   \n",
       "4104     -118.35     34.13                39.0       1610.0           278.0   \n",
       "...          ...       ...                 ...          ...             ...   \n",
       "11532    -118.09     33.77                26.0       5359.0          1508.0   \n",
       "16065    -122.48     37.75                49.0       2203.0           407.0   \n",
       "14501    -117.23     32.86                16.0       1200.0           468.0   \n",
       "14555    -117.13     32.96                15.0       2267.0           292.0   \n",
       "11590    -118.01     33.78                26.0       2343.0           377.0   \n",
       "\n",
       "       population  households  median_income  median_house_value  \\\n",
       "9226       2074.0       644.0         2.6941             63300.0   \n",
       "11826      1874.0       693.0         4.8051            174300.0   \n",
       "4553        435.0       193.0         1.1979            350000.0   \n",
       "10787       985.0       516.0         3.1305            268800.0   \n",
       "4104        511.0       278.0         4.3333            385900.0   \n",
       "...           ...         ...            ...                 ...   \n",
       "11532      1829.0      1393.0         1.7675             61300.0   \n",
       "16065      1052.0       405.0         4.4375            329200.0   \n",
       "14501       648.0       443.0         3.0450            100000.0   \n",
       "14555      1180.0       289.0         6.7120            240200.0   \n",
       "11590      1166.0       373.0         6.0000            233100.0   \n",
       "\n",
       "      ocean_proximity  \n",
       "9226           INLAND  \n",
       "11826          INLAND  \n",
       "4553        <1H OCEAN  \n",
       "10787       <1H OCEAN  \n",
       "4104        <1H OCEAN  \n",
       "...               ...  \n",
       "11532       <1H OCEAN  \n",
       "16065        NEAR BAY  \n",
       "14501      NEAR OCEAN  \n",
       "14555       <1H OCEAN  \n",
       "11590       <1H OCEAN  \n",
       "\n",
       "[16512 rows x 10 columns]"
      ]
     },
     "execution_count": 9,
     "metadata": {},
     "output_type": "execute_result"
    }
   ],
   "source": [
    "test_set"
   ]
  },
  {
   "cell_type": "code",
   "execution_count": 10,
   "id": "e2316152-feb6-401a-8416-be651378a777",
   "metadata": {},
   "outputs": [],
   "source": [
    "from zlib import crc32"
   ]
  },
  {
   "cell_type": "code",
   "execution_count": 11,
   "id": "4c051d50-607a-485a-b481-d1bd7a5b9d89",
   "metadata": {},
   "outputs": [
    {
     "data": {
      "text/plain": [
       "4108501921"
      ]
     },
     "execution_count": 11,
     "metadata": {},
     "output_type": "execute_result"
    }
   ],
   "source": [
    "crc32(np.int64(10))"
   ]
  },
  {
   "cell_type": "code",
   "execution_count": 12,
   "id": "41fc6561-73d4-454c-a70e-78d3edb43dcb",
   "metadata": {},
   "outputs": [],
   "source": [
    "def is_identifier_in_test_set(identifier , testratio):\n",
    "    return crc32(np.int64(identifier))  < testratio*2**32"
   ]
  },
  {
   "cell_type": "code",
   "execution_count": 13,
   "id": "bbe564ea-b243-49e3-b54e-6286f6735d09",
   "metadata": {},
   "outputs": [],
   "source": [
    "def split_train_test_with_idenrifier_hash(df, testratio ,identifier_column):\n",
    "    identifiers=df[identifier_column]\n",
    "    in_test_set=identifiers.apply(lambda id_:is_identifier_in_test_set(id_ , testratio))\n",
    "    return df.loc[~in_test_set] , df.loc[in_test_set]"
   ]
  },
  {
   "cell_type": "code",
   "execution_count": 14,
   "id": "f0431908-29be-40c5-bd8a-8a7bfe3d7a8f",
   "metadata": {},
   "outputs": [],
   "source": [
    "train_set, test_set = split_train_test_with_idenrifier_hash(df.reset_index() , 0.2, \"index\")"
   ]
  },
  {
   "cell_type": "markdown",
   "id": "f57e5324-adb0-4e3d-b488-457e97c33ff2",
   "metadata": {},
   "source": [
    "# train & test split in sklearn"
   ]
  },
  {
   "cell_type": "code",
   "execution_count": 15,
   "id": "b093f3e8-27e4-4f96-9c86-5f087625d909",
   "metadata": {},
   "outputs": [],
   "source": [
    "from sklearn.model_selection import train_test_split"
   ]
  },
  {
   "cell_type": "code",
   "execution_count": 16,
   "id": "4aaa9cf9-74d4-47fc-9d60-2e7a66de6f0f",
   "metadata": {},
   "outputs": [],
   "source": [
    "train_set, test_set= train_test_split(df, test_size=0.2 , random_state=40)"
   ]
  },
  {
   "cell_type": "code",
   "execution_count": 17,
   "id": "41d83728-78e7-4114-a339-cebd4cbeb620",
   "metadata": {},
   "outputs": [
    {
     "data": {
      "text/html": [
       "<div>\n",
       "<style scoped>\n",
       "    .dataframe tbody tr th:only-of-type {\n",
       "        vertical-align: middle;\n",
       "    }\n",
       "\n",
       "    .dataframe tbody tr th {\n",
       "        vertical-align: top;\n",
       "    }\n",
       "\n",
       "    .dataframe thead th {\n",
       "        text-align: right;\n",
       "    }\n",
       "</style>\n",
       "<table border=\"1\" class=\"dataframe\">\n",
       "  <thead>\n",
       "    <tr style=\"text-align: right;\">\n",
       "      <th></th>\n",
       "      <th>longitude</th>\n",
       "      <th>latitude</th>\n",
       "      <th>housing_median_age</th>\n",
       "      <th>total_rooms</th>\n",
       "      <th>total_bedrooms</th>\n",
       "      <th>population</th>\n",
       "      <th>households</th>\n",
       "      <th>median_income</th>\n",
       "      <th>median_house_value</th>\n",
       "      <th>ocean_proximity</th>\n",
       "    </tr>\n",
       "  </thead>\n",
       "  <tbody>\n",
       "    <tr>\n",
       "      <th>9226</th>\n",
       "      <td>-120.04</td>\n",
       "      <td>36.93</td>\n",
       "      <td>11.0</td>\n",
       "      <td>3606.0</td>\n",
       "      <td>699.0</td>\n",
       "      <td>2074.0</td>\n",
       "      <td>644.0</td>\n",
       "      <td>2.6941</td>\n",
       "      <td>63300.0</td>\n",
       "      <td>INLAND</td>\n",
       "    </tr>\n",
       "    <tr>\n",
       "      <th>11826</th>\n",
       "      <td>-121.04</td>\n",
       "      <td>39.00</td>\n",
       "      <td>21.0</td>\n",
       "      <td>4059.0</td>\n",
       "      <td>730.0</td>\n",
       "      <td>1874.0</td>\n",
       "      <td>693.0</td>\n",
       "      <td>4.8051</td>\n",
       "      <td>174300.0</td>\n",
       "      <td>INLAND</td>\n",
       "    </tr>\n",
       "    <tr>\n",
       "      <th>4553</th>\n",
       "      <td>-118.24</td>\n",
       "      <td>34.06</td>\n",
       "      <td>33.0</td>\n",
       "      <td>390.0</td>\n",
       "      <td>199.0</td>\n",
       "      <td>435.0</td>\n",
       "      <td>193.0</td>\n",
       "      <td>1.1979</td>\n",
       "      <td>350000.0</td>\n",
       "      <td>&lt;1H OCEAN</td>\n",
       "    </tr>\n",
       "    <tr>\n",
       "      <th>10787</th>\n",
       "      <td>-117.92</td>\n",
       "      <td>33.64</td>\n",
       "      <td>25.0</td>\n",
       "      <td>2224.0</td>\n",
       "      <td>580.0</td>\n",
       "      <td>985.0</td>\n",
       "      <td>516.0</td>\n",
       "      <td>3.1305</td>\n",
       "      <td>268800.0</td>\n",
       "      <td>&lt;1H OCEAN</td>\n",
       "    </tr>\n",
       "    <tr>\n",
       "      <th>4104</th>\n",
       "      <td>-118.35</td>\n",
       "      <td>34.13</td>\n",
       "      <td>39.0</td>\n",
       "      <td>1610.0</td>\n",
       "      <td>278.0</td>\n",
       "      <td>511.0</td>\n",
       "      <td>278.0</td>\n",
       "      <td>4.3333</td>\n",
       "      <td>385900.0</td>\n",
       "      <td>&lt;1H OCEAN</td>\n",
       "    </tr>\n",
       "    <tr>\n",
       "      <th>...</th>\n",
       "      <td>...</td>\n",
       "      <td>...</td>\n",
       "      <td>...</td>\n",
       "      <td>...</td>\n",
       "      <td>...</td>\n",
       "      <td>...</td>\n",
       "      <td>...</td>\n",
       "      <td>...</td>\n",
       "      <td>...</td>\n",
       "      <td>...</td>\n",
       "    </tr>\n",
       "    <tr>\n",
       "      <th>11532</th>\n",
       "      <td>-118.09</td>\n",
       "      <td>33.77</td>\n",
       "      <td>26.0</td>\n",
       "      <td>5359.0</td>\n",
       "      <td>1508.0</td>\n",
       "      <td>1829.0</td>\n",
       "      <td>1393.0</td>\n",
       "      <td>1.7675</td>\n",
       "      <td>61300.0</td>\n",
       "      <td>&lt;1H OCEAN</td>\n",
       "    </tr>\n",
       "    <tr>\n",
       "      <th>16065</th>\n",
       "      <td>-122.48</td>\n",
       "      <td>37.75</td>\n",
       "      <td>49.0</td>\n",
       "      <td>2203.0</td>\n",
       "      <td>407.0</td>\n",
       "      <td>1052.0</td>\n",
       "      <td>405.0</td>\n",
       "      <td>4.4375</td>\n",
       "      <td>329200.0</td>\n",
       "      <td>NEAR BAY</td>\n",
       "    </tr>\n",
       "    <tr>\n",
       "      <th>14501</th>\n",
       "      <td>-117.23</td>\n",
       "      <td>32.86</td>\n",
       "      <td>16.0</td>\n",
       "      <td>1200.0</td>\n",
       "      <td>468.0</td>\n",
       "      <td>648.0</td>\n",
       "      <td>443.0</td>\n",
       "      <td>3.0450</td>\n",
       "      <td>100000.0</td>\n",
       "      <td>NEAR OCEAN</td>\n",
       "    </tr>\n",
       "    <tr>\n",
       "      <th>14555</th>\n",
       "      <td>-117.13</td>\n",
       "      <td>32.96</td>\n",
       "      <td>15.0</td>\n",
       "      <td>2267.0</td>\n",
       "      <td>292.0</td>\n",
       "      <td>1180.0</td>\n",
       "      <td>289.0</td>\n",
       "      <td>6.7120</td>\n",
       "      <td>240200.0</td>\n",
       "      <td>&lt;1H OCEAN</td>\n",
       "    </tr>\n",
       "    <tr>\n",
       "      <th>11590</th>\n",
       "      <td>-118.01</td>\n",
       "      <td>33.78</td>\n",
       "      <td>26.0</td>\n",
       "      <td>2343.0</td>\n",
       "      <td>377.0</td>\n",
       "      <td>1166.0</td>\n",
       "      <td>373.0</td>\n",
       "      <td>6.0000</td>\n",
       "      <td>233100.0</td>\n",
       "      <td>&lt;1H OCEAN</td>\n",
       "    </tr>\n",
       "  </tbody>\n",
       "</table>\n",
       "<p>16512 rows × 10 columns</p>\n",
       "</div>"
      ],
      "text/plain": [
       "       longitude  latitude  housing_median_age  total_rooms  total_bedrooms  \\\n",
       "9226     -120.04     36.93                11.0       3606.0           699.0   \n",
       "11826    -121.04     39.00                21.0       4059.0           730.0   \n",
       "4553     -118.24     34.06                33.0        390.0           199.0   \n",
       "10787    -117.92     33.64                25.0       2224.0           580.0   \n",
       "4104     -118.35     34.13                39.0       1610.0           278.0   \n",
       "...          ...       ...                 ...          ...             ...   \n",
       "11532    -118.09     33.77                26.0       5359.0          1508.0   \n",
       "16065    -122.48     37.75                49.0       2203.0           407.0   \n",
       "14501    -117.23     32.86                16.0       1200.0           468.0   \n",
       "14555    -117.13     32.96                15.0       2267.0           292.0   \n",
       "11590    -118.01     33.78                26.0       2343.0           377.0   \n",
       "\n",
       "       population  households  median_income  median_house_value  \\\n",
       "9226       2074.0       644.0         2.6941             63300.0   \n",
       "11826      1874.0       693.0         4.8051            174300.0   \n",
       "4553        435.0       193.0         1.1979            350000.0   \n",
       "10787       985.0       516.0         3.1305            268800.0   \n",
       "4104        511.0       278.0         4.3333            385900.0   \n",
       "...           ...         ...            ...                 ...   \n",
       "11532      1829.0      1393.0         1.7675             61300.0   \n",
       "16065      1052.0       405.0         4.4375            329200.0   \n",
       "14501       648.0       443.0         3.0450            100000.0   \n",
       "14555      1180.0       289.0         6.7120            240200.0   \n",
       "11590      1166.0       373.0         6.0000            233100.0   \n",
       "\n",
       "      ocean_proximity  \n",
       "9226           INLAND  \n",
       "11826          INLAND  \n",
       "4553        <1H OCEAN  \n",
       "10787       <1H OCEAN  \n",
       "4104        <1H OCEAN  \n",
       "...               ...  \n",
       "11532       <1H OCEAN  \n",
       "16065        NEAR BAY  \n",
       "14501      NEAR OCEAN  \n",
       "14555       <1H OCEAN  \n",
       "11590       <1H OCEAN  \n",
       "\n",
       "[16512 rows x 10 columns]"
      ]
     },
     "execution_count": 17,
     "metadata": {},
     "output_type": "execute_result"
    }
   ],
   "source": [
    "train_set"
   ]
  },
  {
   "cell_type": "code",
   "execution_count": 18,
   "id": "89abd25f-bfe4-46d6-896a-d8b13c05cf51",
   "metadata": {},
   "outputs": [
    {
     "data": {
      "text/html": [
       "<div>\n",
       "<style scoped>\n",
       "    .dataframe tbody tr th:only-of-type {\n",
       "        vertical-align: middle;\n",
       "    }\n",
       "\n",
       "    .dataframe tbody tr th {\n",
       "        vertical-align: top;\n",
       "    }\n",
       "\n",
       "    .dataframe thead th {\n",
       "        text-align: right;\n",
       "    }\n",
       "</style>\n",
       "<table border=\"1\" class=\"dataframe\">\n",
       "  <thead>\n",
       "    <tr style=\"text-align: right;\">\n",
       "      <th></th>\n",
       "      <th>longitude</th>\n",
       "      <th>latitude</th>\n",
       "      <th>housing_median_age</th>\n",
       "      <th>total_rooms</th>\n",
       "      <th>total_bedrooms</th>\n",
       "      <th>population</th>\n",
       "      <th>households</th>\n",
       "      <th>median_income</th>\n",
       "      <th>median_house_value</th>\n",
       "      <th>ocean_proximity</th>\n",
       "    </tr>\n",
       "  </thead>\n",
       "  <tbody>\n",
       "    <tr>\n",
       "      <th>6607</th>\n",
       "      <td>-118.14</td>\n",
       "      <td>34.18</td>\n",
       "      <td>47.0</td>\n",
       "      <td>3457.0</td>\n",
       "      <td>622.0</td>\n",
       "      <td>1700.0</td>\n",
       "      <td>579.0</td>\n",
       "      <td>3.5164</td>\n",
       "      <td>226500.0</td>\n",
       "      <td>&lt;1H OCEAN</td>\n",
       "    </tr>\n",
       "    <tr>\n",
       "      <th>884</th>\n",
       "      <td>-121.97</td>\n",
       "      <td>37.54</td>\n",
       "      <td>31.0</td>\n",
       "      <td>1949.0</td>\n",
       "      <td>344.0</td>\n",
       "      <td>986.0</td>\n",
       "      <td>322.0</td>\n",
       "      <td>4.6349</td>\n",
       "      <td>196200.0</td>\n",
       "      <td>&lt;1H OCEAN</td>\n",
       "    </tr>\n",
       "    <tr>\n",
       "      <th>9457</th>\n",
       "      <td>-123.84</td>\n",
       "      <td>39.83</td>\n",
       "      <td>19.0</td>\n",
       "      <td>1461.0</td>\n",
       "      <td>340.0</td>\n",
       "      <td>515.0</td>\n",
       "      <td>227.0</td>\n",
       "      <td>1.5278</td>\n",
       "      <td>145800.0</td>\n",
       "      <td>NEAR OCEAN</td>\n",
       "    </tr>\n",
       "    <tr>\n",
       "      <th>18681</th>\n",
       "      <td>-121.82</td>\n",
       "      <td>36.86</td>\n",
       "      <td>17.0</td>\n",
       "      <td>1573.0</td>\n",
       "      <td>272.0</td>\n",
       "      <td>142.0</td>\n",
       "      <td>55.0</td>\n",
       "      <td>2.1719</td>\n",
       "      <td>420000.0</td>\n",
       "      <td>NEAR OCEAN</td>\n",
       "    </tr>\n",
       "    <tr>\n",
       "      <th>4654</th>\n",
       "      <td>-118.33</td>\n",
       "      <td>34.05</td>\n",
       "      <td>48.0</td>\n",
       "      <td>2405.0</td>\n",
       "      <td>527.0</td>\n",
       "      <td>1868.0</td>\n",
       "      <td>502.0</td>\n",
       "      <td>3.3750</td>\n",
       "      <td>257800.0</td>\n",
       "      <td>&lt;1H OCEAN</td>\n",
       "    </tr>\n",
       "    <tr>\n",
       "      <th>...</th>\n",
       "      <td>...</td>\n",
       "      <td>...</td>\n",
       "      <td>...</td>\n",
       "      <td>...</td>\n",
       "      <td>...</td>\n",
       "      <td>...</td>\n",
       "      <td>...</td>\n",
       "      <td>...</td>\n",
       "      <td>...</td>\n",
       "      <td>...</td>\n",
       "    </tr>\n",
       "    <tr>\n",
       "      <th>19314</th>\n",
       "      <td>-122.87</td>\n",
       "      <td>38.43</td>\n",
       "      <td>36.0</td>\n",
       "      <td>1987.0</td>\n",
       "      <td>387.0</td>\n",
       "      <td>1065.0</td>\n",
       "      <td>347.0</td>\n",
       "      <td>4.0446</td>\n",
       "      <td>172200.0</td>\n",
       "      <td>&lt;1H OCEAN</td>\n",
       "    </tr>\n",
       "    <tr>\n",
       "      <th>15433</th>\n",
       "      <td>-117.25</td>\n",
       "      <td>33.20</td>\n",
       "      <td>10.0</td>\n",
       "      <td>2050.0</td>\n",
       "      <td>473.0</td>\n",
       "      <td>1302.0</td>\n",
       "      <td>471.0</td>\n",
       "      <td>2.7961</td>\n",
       "      <td>131300.0</td>\n",
       "      <td>&lt;1H OCEAN</td>\n",
       "    </tr>\n",
       "    <tr>\n",
       "      <th>3631</th>\n",
       "      <td>-118.43</td>\n",
       "      <td>34.23</td>\n",
       "      <td>35.0</td>\n",
       "      <td>2049.0</td>\n",
       "      <td>390.0</td>\n",
       "      <td>1286.0</td>\n",
       "      <td>385.0</td>\n",
       "      <td>4.4432</td>\n",
       "      <td>181500.0</td>\n",
       "      <td>&lt;1H OCEAN</td>\n",
       "    </tr>\n",
       "    <tr>\n",
       "      <th>3689</th>\n",
       "      <td>-118.36</td>\n",
       "      <td>34.23</td>\n",
       "      <td>15.0</td>\n",
       "      <td>2485.0</td>\n",
       "      <td>742.0</td>\n",
       "      <td>1994.0</td>\n",
       "      <td>670.0</td>\n",
       "      <td>2.8333</td>\n",
       "      <td>183200.0</td>\n",
       "      <td>&lt;1H OCEAN</td>\n",
       "    </tr>\n",
       "    <tr>\n",
       "      <th>11895</th>\n",
       "      <td>-117.36</td>\n",
       "      <td>33.97</td>\n",
       "      <td>32.0</td>\n",
       "      <td>1625.0</td>\n",
       "      <td>335.0</td>\n",
       "      <td>1212.0</td>\n",
       "      <td>327.0</td>\n",
       "      <td>2.7596</td>\n",
       "      <td>82200.0</td>\n",
       "      <td>INLAND</td>\n",
       "    </tr>\n",
       "  </tbody>\n",
       "</table>\n",
       "<p>4128 rows × 10 columns</p>\n",
       "</div>"
      ],
      "text/plain": [
       "       longitude  latitude  housing_median_age  total_rooms  total_bedrooms  \\\n",
       "6607     -118.14     34.18                47.0       3457.0           622.0   \n",
       "884      -121.97     37.54                31.0       1949.0           344.0   \n",
       "9457     -123.84     39.83                19.0       1461.0           340.0   \n",
       "18681    -121.82     36.86                17.0       1573.0           272.0   \n",
       "4654     -118.33     34.05                48.0       2405.0           527.0   \n",
       "...          ...       ...                 ...          ...             ...   \n",
       "19314    -122.87     38.43                36.0       1987.0           387.0   \n",
       "15433    -117.25     33.20                10.0       2050.0           473.0   \n",
       "3631     -118.43     34.23                35.0       2049.0           390.0   \n",
       "3689     -118.36     34.23                15.0       2485.0           742.0   \n",
       "11895    -117.36     33.97                32.0       1625.0           335.0   \n",
       "\n",
       "       population  households  median_income  median_house_value  \\\n",
       "6607       1700.0       579.0         3.5164            226500.0   \n",
       "884         986.0       322.0         4.6349            196200.0   \n",
       "9457        515.0       227.0         1.5278            145800.0   \n",
       "18681       142.0        55.0         2.1719            420000.0   \n",
       "4654       1868.0       502.0         3.3750            257800.0   \n",
       "...           ...         ...            ...                 ...   \n",
       "19314      1065.0       347.0         4.0446            172200.0   \n",
       "15433      1302.0       471.0         2.7961            131300.0   \n",
       "3631       1286.0       385.0         4.4432            181500.0   \n",
       "3689       1994.0       670.0         2.8333            183200.0   \n",
       "11895      1212.0       327.0         2.7596             82200.0   \n",
       "\n",
       "      ocean_proximity  \n",
       "6607        <1H OCEAN  \n",
       "884         <1H OCEAN  \n",
       "9457       NEAR OCEAN  \n",
       "18681      NEAR OCEAN  \n",
       "4654        <1H OCEAN  \n",
       "...               ...  \n",
       "19314       <1H OCEAN  \n",
       "15433       <1H OCEAN  \n",
       "3631        <1H OCEAN  \n",
       "3689        <1H OCEAN  \n",
       "11895          INLAND  \n",
       "\n",
       "[4128 rows x 10 columns]"
      ]
     },
     "execution_count": 18,
     "metadata": {},
     "output_type": "execute_result"
    }
   ],
   "source": [
    "test_set"
   ]
  },
  {
   "cell_type": "code",
   "execution_count": 19,
   "id": "8e0c0fab-f44e-4901-bbde-b3aa6456ea67",
   "metadata": {},
   "outputs": [
    {
     "data": {
      "text/html": [
       "<div>\n",
       "<style scoped>\n",
       "    .dataframe tbody tr th:only-of-type {\n",
       "        vertical-align: middle;\n",
       "    }\n",
       "\n",
       "    .dataframe tbody tr th {\n",
       "        vertical-align: top;\n",
       "    }\n",
       "\n",
       "    .dataframe thead th {\n",
       "        text-align: right;\n",
       "    }\n",
       "</style>\n",
       "<table border=\"1\" class=\"dataframe\">\n",
       "  <thead>\n",
       "    <tr style=\"text-align: right;\">\n",
       "      <th></th>\n",
       "      <th>longitude</th>\n",
       "      <th>latitude</th>\n",
       "      <th>housing_median_age</th>\n",
       "      <th>total_rooms</th>\n",
       "      <th>total_bedrooms</th>\n",
       "      <th>population</th>\n",
       "      <th>households</th>\n",
       "      <th>median_income</th>\n",
       "      <th>median_house_value</th>\n",
       "      <th>ocean_proximity</th>\n",
       "      <th>median_incom_categories</th>\n",
       "    </tr>\n",
       "  </thead>\n",
       "  <tbody>\n",
       "    <tr>\n",
       "      <th>0</th>\n",
       "      <td>-122.23</td>\n",
       "      <td>37.88</td>\n",
       "      <td>41.0</td>\n",
       "      <td>880.0</td>\n",
       "      <td>129.0</td>\n",
       "      <td>322.0</td>\n",
       "      <td>126.0</td>\n",
       "      <td>8.3252</td>\n",
       "      <td>452600.0</td>\n",
       "      <td>NEAR BAY</td>\n",
       "      <td>5</td>\n",
       "    </tr>\n",
       "    <tr>\n",
       "      <th>1</th>\n",
       "      <td>-122.22</td>\n",
       "      <td>37.86</td>\n",
       "      <td>21.0</td>\n",
       "      <td>7099.0</td>\n",
       "      <td>1106.0</td>\n",
       "      <td>2401.0</td>\n",
       "      <td>1138.0</td>\n",
       "      <td>8.3014</td>\n",
       "      <td>358500.0</td>\n",
       "      <td>NEAR BAY</td>\n",
       "      <td>5</td>\n",
       "    </tr>\n",
       "    <tr>\n",
       "      <th>2</th>\n",
       "      <td>-122.24</td>\n",
       "      <td>37.85</td>\n",
       "      <td>52.0</td>\n",
       "      <td>1467.0</td>\n",
       "      <td>190.0</td>\n",
       "      <td>496.0</td>\n",
       "      <td>177.0</td>\n",
       "      <td>7.2574</td>\n",
       "      <td>352100.0</td>\n",
       "      <td>NEAR BAY</td>\n",
       "      <td>5</td>\n",
       "    </tr>\n",
       "    <tr>\n",
       "      <th>3</th>\n",
       "      <td>-122.25</td>\n",
       "      <td>37.85</td>\n",
       "      <td>52.0</td>\n",
       "      <td>1274.0</td>\n",
       "      <td>235.0</td>\n",
       "      <td>558.0</td>\n",
       "      <td>219.0</td>\n",
       "      <td>5.6431</td>\n",
       "      <td>341300.0</td>\n",
       "      <td>NEAR BAY</td>\n",
       "      <td>4</td>\n",
       "    </tr>\n",
       "    <tr>\n",
       "      <th>4</th>\n",
       "      <td>-122.25</td>\n",
       "      <td>37.85</td>\n",
       "      <td>52.0</td>\n",
       "      <td>1627.0</td>\n",
       "      <td>280.0</td>\n",
       "      <td>565.0</td>\n",
       "      <td>259.0</td>\n",
       "      <td>3.8462</td>\n",
       "      <td>342200.0</td>\n",
       "      <td>NEAR BAY</td>\n",
       "      <td>3</td>\n",
       "    </tr>\n",
       "    <tr>\n",
       "      <th>...</th>\n",
       "      <td>...</td>\n",
       "      <td>...</td>\n",
       "      <td>...</td>\n",
       "      <td>...</td>\n",
       "      <td>...</td>\n",
       "      <td>...</td>\n",
       "      <td>...</td>\n",
       "      <td>...</td>\n",
       "      <td>...</td>\n",
       "      <td>...</td>\n",
       "      <td>...</td>\n",
       "    </tr>\n",
       "    <tr>\n",
       "      <th>20635</th>\n",
       "      <td>-121.09</td>\n",
       "      <td>39.48</td>\n",
       "      <td>25.0</td>\n",
       "      <td>1665.0</td>\n",
       "      <td>374.0</td>\n",
       "      <td>845.0</td>\n",
       "      <td>330.0</td>\n",
       "      <td>1.5603</td>\n",
       "      <td>78100.0</td>\n",
       "      <td>INLAND</td>\n",
       "      <td>2</td>\n",
       "    </tr>\n",
       "    <tr>\n",
       "      <th>20636</th>\n",
       "      <td>-121.21</td>\n",
       "      <td>39.49</td>\n",
       "      <td>18.0</td>\n",
       "      <td>697.0</td>\n",
       "      <td>150.0</td>\n",
       "      <td>356.0</td>\n",
       "      <td>114.0</td>\n",
       "      <td>2.5568</td>\n",
       "      <td>77100.0</td>\n",
       "      <td>INLAND</td>\n",
       "      <td>2</td>\n",
       "    </tr>\n",
       "    <tr>\n",
       "      <th>20637</th>\n",
       "      <td>-121.22</td>\n",
       "      <td>39.43</td>\n",
       "      <td>17.0</td>\n",
       "      <td>2254.0</td>\n",
       "      <td>485.0</td>\n",
       "      <td>1007.0</td>\n",
       "      <td>433.0</td>\n",
       "      <td>1.7000</td>\n",
       "      <td>92300.0</td>\n",
       "      <td>INLAND</td>\n",
       "      <td>2</td>\n",
       "    </tr>\n",
       "    <tr>\n",
       "      <th>20638</th>\n",
       "      <td>-121.32</td>\n",
       "      <td>39.43</td>\n",
       "      <td>18.0</td>\n",
       "      <td>1860.0</td>\n",
       "      <td>409.0</td>\n",
       "      <td>741.0</td>\n",
       "      <td>349.0</td>\n",
       "      <td>1.8672</td>\n",
       "      <td>84700.0</td>\n",
       "      <td>INLAND</td>\n",
       "      <td>2</td>\n",
       "    </tr>\n",
       "    <tr>\n",
       "      <th>20639</th>\n",
       "      <td>-121.24</td>\n",
       "      <td>39.37</td>\n",
       "      <td>16.0</td>\n",
       "      <td>2785.0</td>\n",
       "      <td>616.0</td>\n",
       "      <td>1387.0</td>\n",
       "      <td>530.0</td>\n",
       "      <td>2.3886</td>\n",
       "      <td>89400.0</td>\n",
       "      <td>INLAND</td>\n",
       "      <td>2</td>\n",
       "    </tr>\n",
       "  </tbody>\n",
       "</table>\n",
       "<p>20640 rows × 11 columns</p>\n",
       "</div>"
      ],
      "text/plain": [
       "       longitude  latitude  housing_median_age  total_rooms  total_bedrooms  \\\n",
       "0        -122.23     37.88                41.0        880.0           129.0   \n",
       "1        -122.22     37.86                21.0       7099.0          1106.0   \n",
       "2        -122.24     37.85                52.0       1467.0           190.0   \n",
       "3        -122.25     37.85                52.0       1274.0           235.0   \n",
       "4        -122.25     37.85                52.0       1627.0           280.0   \n",
       "...          ...       ...                 ...          ...             ...   \n",
       "20635    -121.09     39.48                25.0       1665.0           374.0   \n",
       "20636    -121.21     39.49                18.0        697.0           150.0   \n",
       "20637    -121.22     39.43                17.0       2254.0           485.0   \n",
       "20638    -121.32     39.43                18.0       1860.0           409.0   \n",
       "20639    -121.24     39.37                16.0       2785.0           616.0   \n",
       "\n",
       "       population  households  median_income  median_house_value  \\\n",
       "0           322.0       126.0         8.3252            452600.0   \n",
       "1          2401.0      1138.0         8.3014            358500.0   \n",
       "2           496.0       177.0         7.2574            352100.0   \n",
       "3           558.0       219.0         5.6431            341300.0   \n",
       "4           565.0       259.0         3.8462            342200.0   \n",
       "...           ...         ...            ...                 ...   \n",
       "20635       845.0       330.0         1.5603             78100.0   \n",
       "20636       356.0       114.0         2.5568             77100.0   \n",
       "20637      1007.0       433.0         1.7000             92300.0   \n",
       "20638       741.0       349.0         1.8672             84700.0   \n",
       "20639      1387.0       530.0         2.3886             89400.0   \n",
       "\n",
       "      ocean_proximity median_incom_categories  \n",
       "0            NEAR BAY                       5  \n",
       "1            NEAR BAY                       5  \n",
       "2            NEAR BAY                       5  \n",
       "3            NEAR BAY                       4  \n",
       "4            NEAR BAY                       3  \n",
       "...               ...                     ...  \n",
       "20635          INLAND                       2  \n",
       "20636          INLAND                       2  \n",
       "20637          INLAND                       2  \n",
       "20638          INLAND                       2  \n",
       "20639          INLAND                       2  \n",
       "\n",
       "[20640 rows x 11 columns]"
      ]
     },
     "execution_count": 19,
     "metadata": {},
     "output_type": "execute_result"
    }
   ],
   "source": [
    "df[\"median_incom_categories\"]=pd.cut(df[\"median_income\"] ,bins=[0.0,1.5, 3.0, 4.5,6.0, np.inf],\n",
    "        labels=[1,2,3,4,5 ])\n",
    "\n",
    "df"
   ]
  },
  {
   "cell_type": "code",
   "execution_count": 20,
   "id": "69e76af4-d755-4828-a2b2-748428f78de2",
   "metadata": {},
   "outputs": [
    {
     "data": {
      "text/plain": [
       "0        8.3252\n",
       "1        8.3014\n",
       "2        7.2574\n",
       "3        5.6431\n",
       "4        3.8462\n",
       "          ...  \n",
       "20635    1.5603\n",
       "20636    2.5568\n",
       "20637    1.7000\n",
       "20638    1.8672\n",
       "20639    2.3886\n",
       "Name: median_income, Length: 20640, dtype: float64"
      ]
     },
     "execution_count": 20,
     "metadata": {},
     "output_type": "execute_result"
    }
   ],
   "source": [
    "df[\"median_income\"]"
   ]
  },
  {
   "cell_type": "code",
   "execution_count": 21,
   "id": "6f55dbd5-bed8-4284-9bd4-6d257d656436",
   "metadata": {},
   "outputs": [
    {
     "data": {
      "text/plain": [
       "<Axes: xlabel='median_incom_categories'>"
      ]
     },
     "execution_count": 21,
     "metadata": {},
     "output_type": "execute_result"
    },
    {
     "data": {
      "image/png": "[encoded data removed]",
      "text/plain": [
       "<Figure size 640x480 with 1 Axes>"
      ]
     },
     "metadata": {},
     "output_type": "display_data"
    }
   ],
   "source": [
    "df[\"median_incom_categories\"].value_counts().plot.bar()\n",
    "df[\"median_incom_categories\"].value_counts().sort_index().plot.bar()"
   ]
  },
  {
   "cell_type": "code",
   "execution_count": 22,
   "id": "494f4c34-761f-485a-ae87-ac32ae6ba2a7",
   "metadata": {},
   "outputs": [],
   "source": [
    "from sklearn.model_selection import StratifiedShuffleSplit\n",
    "sss=StratifiedShuffleSplit(n_splits=10, test_size=0.2, random_state=40)\n",
    "stratified_split=[]\n",
    "for train_i, test_i in sss.split(df, df[\"median_incom_categories\"]):\n",
    "    stratified_train_set_n=df.iloc[train_i]\n",
    "    stratified_test_set_n=df.iloc[test_i]\n",
    "    stratified_split.append([stratified_train_set_n, stratified_test_set_n])"
   ]
  },
  {
   "cell_type": "code",
   "execution_count": 23,
   "id": "146ffe87-efcb-4db9-b1c8-f80b5b7134e7",
   "metadata": {},
   "outputs": [
    {
     "data": {
      "text/plain": [
       "[       longitude  latitude  housing_median_age  total_rooms  total_bedrooms  \\\n",
       " 16415    -121.26     37.88                42.0        465.0            93.0   \n",
       " 1279     -121.64     37.85                22.0       1999.0           415.0   \n",
       " 7741     -118.15     33.95                35.0       2753.0           702.0   \n",
       " 4425     -118.24     34.07                27.0        223.0            80.0   \n",
       " 1283     -121.82     38.02                46.0        176.0            43.0   \n",
       " ...          ...       ...                 ...          ...             ...   \n",
       " 1221     -120.65     38.28                21.0       3095.0           681.0   \n",
       " 12640    -121.45     38.53                34.0       1893.0           415.0   \n",
       " 5747     -118.27     34.17                48.0       1560.0           280.0   \n",
       " 16224    -121.33     37.98                36.0       3113.0           576.0   \n",
       " 8967     -118.40     34.00                37.0       1534.0           258.0   \n",
       " \n",
       "        population  households  median_income  median_house_value  \\\n",
       " 16415       256.0        93.0         3.1719            158300.0   \n",
       " 1279        967.0       320.0         4.4583            253900.0   \n",
       " 7741       1592.0       614.0         2.7875            209000.0   \n",
       " 4425        249.0        82.0         1.6136            137500.0   \n",
       " 1283        101.0        40.0         2.2361             93800.0   \n",
       " ...           ...         ...            ...                 ...   \n",
       " 1221       1341.0       546.0         2.1382            104000.0   \n",
       " 12640       884.0       395.0         2.1679             75400.0   \n",
       " 5747        825.0       269.0         5.5118            354700.0   \n",
       " 16224      1746.0       544.0         3.4625             84600.0   \n",
       " 8967        751.0       259.0         5.4440            336000.0   \n",
       " \n",
       "       ocean_proximity median_incom_categories  \n",
       " 16415          INLAND                       3  \n",
       " 1279           INLAND                       3  \n",
       " 7741        <1H OCEAN                       2  \n",
       " 4425        <1H OCEAN                       2  \n",
       " 1283           INLAND                       2  \n",
       " ...               ...                     ...  \n",
       " 1221           INLAND                       2  \n",
       " 12640          INLAND                       2  \n",
       " 5747        <1H OCEAN                       4  \n",
       " 16224          INLAND                       3  \n",
       " 8967        <1H OCEAN                       4  \n",
       " \n",
       " [16512 rows x 11 columns],\n",
       "        longitude  latitude  housing_median_age  total_rooms  total_bedrooms  \\\n",
       " 5905     -118.42     34.29                34.0       1489.0           326.0   \n",
       " 4830     -118.30     34.04                37.0       1470.0           399.0   \n",
       " 10969    -117.87     33.76                37.0       4943.0           851.0   \n",
       " 7048     -118.05     33.94                34.0        495.0           120.0   \n",
       " 13721    -117.18     34.07                 7.0       1347.0           301.0   \n",
       " ...          ...       ...                 ...          ...             ...   \n",
       " 3377     -118.29     34.25                19.0       1988.0           594.0   \n",
       " 19816    -119.29     36.54                18.0       2581.0           628.0   \n",
       " 20545    -121.75     38.55                26.0       4802.0           950.0   \n",
       " 3330     -122.48     38.90                10.0        304.0            63.0   \n",
       " 14222    -117.04     32.66                22.0       3362.0           630.0   \n",
       " \n",
       "        population  households  median_income  median_house_value  \\\n",
       " 5905       1389.0       313.0         3.4821            160300.0   \n",
       " 4830       1579.0       390.0         2.0060            150000.0   \n",
       " 10969      2164.0       788.0         4.1071            311300.0   \n",
       " 7048        527.0       130.0         1.9453            149000.0   \n",
       " 13721       799.0       276.0         2.9485            112500.0   \n",
       " ...           ...         ...            ...                 ...   \n",
       " 3377       1399.0       527.0         2.4727            175000.0   \n",
       " 19816      2732.0       592.0         1.8429             58300.0   \n",
       " 20545      2199.0       939.0         3.7452            227700.0   \n",
       " 3330        161.0        61.0         2.1964            112500.0   \n",
       " 14222      1471.0       612.0         4.1442            303900.0   \n",
       " \n",
       "       ocean_proximity median_incom_categories  \n",
       " 5905        <1H OCEAN                       3  \n",
       " 4830        <1H OCEAN                       2  \n",
       " 10969       <1H OCEAN                       3  \n",
       " 7048        <1H OCEAN                       2  \n",
       " 13721          INLAND                       2  \n",
       " ...               ...                     ...  \n",
       " 3377        <1H OCEAN                       2  \n",
       " 19816          INLAND                       2  \n",
       " 20545          INLAND                       3  \n",
       " 3330           INLAND                       2  \n",
       " 14222      NEAR OCEAN                       3  \n",
       " \n",
       " [4128 rows x 11 columns]]"
      ]
     },
     "execution_count": 23,
     "metadata": {},
     "output_type": "execute_result"
    }
   ],
   "source": [
    "stratified_split\n",
    "stratified_split[0 ]"
   ]
  },
  {
   "cell_type": "code",
   "execution_count": 24,
   "id": "9e69d3b5-8fe5-4a4d-a453-71ac31a5db9d",
   "metadata": {},
   "outputs": [],
   "source": [
    "str_train_set, str_test_set= train_test_split(df, test_size=0.2 , random_state=40, stratify=df[\"median_incom_categories\"])"
   ]
  },
  {
   "cell_type": "code",
   "execution_count": 25,
   "id": "7fbb370b-cd92-4d26-921f-083ca81b001e",
   "metadata": {},
   "outputs": [
    {
     "ename": "AttributeError",
     "evalue": "'list' object has no attribute 'value_counts'",
     "output_type": "error",
     "traceback": [
      "\u001b[31m---------------------------------------------------------------------------\u001b[39m",
      "\u001b[31mAttributeError\u001b[39m                            Traceback (most recent call last)",
      "\u001b[36mCell\u001b[39m\u001b[36m \u001b[39m\u001b[32mIn[25]\u001b[39m\u001b[32m, line 1\u001b[39m\n\u001b[32m----> \u001b[39m\u001b[32m1\u001b[39m str_train_set=\u001b[43m[\u001b[49m\u001b[43m[\u001b[49m\u001b[33;43m\"\u001b[39;49m\u001b[33;43mmedian_incom_categories\u001b[39;49m\u001b[33;43m\"\u001b[39;49m\u001b[43m]\u001b[49m\u001b[43m]\u001b[49m\u001b[43m.\u001b[49m\u001b[43mvalue_counts\u001b[49m()/\u001b[38;5;28mlen\u001b[39m(str_train_set)\n",
      "\u001b[31mAttributeError\u001b[39m: 'list' object has no attribute 'value_counts'"
     ]
    }
   ],
   "source": [
    "str_train_set=[[\"median_incom_categories\"]].value_counts()/len(str_train_set)"
   ]
  },
  {
   "cell_type": "code",
   "execution_count": null,
   "id": "d82f9242-092e-4a89-b917-4a5ce8d9d338",
   "metadata": {},
   "outputs": [],
   "source": [
    "str_train_set=str_train_set.drop(\"median_incom_categories\", axis=1)\n",
    "str_test_set=str_test_set.drop(\"median_incom_categories\", axis=1)"
   ]
  },
  {
   "cell_type": "markdown",
   "id": "ec20364d-8055-4788-83ea-e814e5651cd7",
   "metadata": {},
   "source": [
    "# visualize"
   ]
  },
  {
   "cell_type": "code",
   "execution_count": null,
   "id": "60fcbb4d-4c32-4217-bcf8-2a090f3bc2b9",
   "metadata": {},
   "outputs": [],
   "source": [
    "train=str_train_set\n",
    "train"
   ]
  },
  {
   "cell_type": "code",
   "execution_count": null,
   "id": "6e0ad984-ec2c-41a2-babf-da895baa1df1",
   "metadata": {},
   "outputs": [],
   "source": [
    "sns.scatterplot(data=train, \n",
    "                x=\"longitude\" ,\n",
    "                y=\"latitude\", \n",
    "                size=\"population\", \n",
    "                alpha=0.2 , \n",
    "                hue=\"median_house_value\")"
   ]
  },
  {
   "cell_type": "code",
   "execution_count": null,
   "id": "9314fece-8751-44b6-ba5d-8412cceebef6",
   "metadata": {},
   "outputs": [],
   "source": [
    "train.corr()[\"median_house_value\"]"
   ]
  },
  {
   "cell_type": "code",
   "execution_count": null,
   "id": "f9851cfd-3be2-4bee-9b70-4b543198a325",
   "metadata": {},
   "outputs": [],
   "source": [
    "sns.scatterplot(data=train, x=\"median_incom\",y=\"median_house_value\", )"
   ]
  },
  {
   "cell_type": "markdown",
   "id": "4a7f3ca1-6f9a-40be-9331-f304393d6f5d",
   "metadata": {},
   "source": [
    "# Atrribute combinations"
   ]
  },
  {
   "cell_type": "code",
   "execution_count": null,
   "id": "dd5cd290-44c7-4ad4-b526-696835d00fe6",
   "metadata": {},
   "outputs": [],
   "source": [
    "train[\"rooms_per_house\"] = train[\"total_rooms\"] /train[\"households\"]\n",
    "train[\"bedrooms_ratio\"]= train[\"total_bedrooms\"] / train[\"total_rooms\"]\n",
    "train[\"people_per_house\"]= train[\"population\"] / train[\"households\"]\n",
    "\n",
    "train"
   ]
  },
  {
   "cell_type": "code",
   "execution_count": null,
   "id": "f7c9dce7-33de-4d19-80db-225fc01df5e6",
   "metadata": {},
   "outputs": [],
   "source": [
    "train.corr()[\"median_house_value\"]"
   ]
  },
  {
   "cell_type": "markdown",
   "id": "39273d4e-ab56-42ea-8848-8ce282351864",
   "metadata": {},
   "source": [
    "# Prepare data  \n",
    "آماده سازی دیتا "
   ]
  },
  {
   "cell_type": "code",
   "execution_count": null,
   "id": "9d219263-89d0-4c87-b5f4-e1fba48de9ef",
   "metadata": {},
   "outputs": [],
   "source": [
    "train_features=train.drop(\"median_house_value\" , axis=1)\n",
    "train_target=train[\"median_house_value\"]\n",
    "train_target"
   ]
  },
  {
   "cell_type": "markdown",
   "id": "62f772ad-6275-4501-9a44-562171fb7658",
   "metadata": {},
   "source": [
    "## Data cleaning\n",
    "\n",
    "باید ببینمیم کجا میسینگ ولیو داریم"
   ]
  },
  {
   "cell_type": "code",
   "execution_count": null,
   "id": "c1151606-255f-4f65-94c7-745a393c91cf",
   "metadata": {},
   "outputs": [],
   "source": [
    "train_features.info()"
   ]
  },
  {
   "cell_type": "code",
   "execution_count": null,
   "id": "e604d8f1-54f9-4847-aae9-419b1a17aad9",
   "metadata": {},
   "outputs": [],
   "source": [
    "# remove rows with NA values\n",
    "train_features.dropna(subset=[\"total_bedrooms\"]).info()"
   ]
  },
  {
   "cell_type": "code",
   "execution_count": null,
   "id": "1ffdd6d4-4aca-45a1-9d86-4acc73b79f35",
   "metadata": {},
   "outputs": [],
   "source": [
    "# train_features_with_imputed_value\n",
    "total_bedrooms_median=train_features[\"total_bedrooms\"].median()\n",
    "train_features[\"total_bedrooms\"]=train_features[\"total_bedrooms\"].fillna(total_bedrooms_median)\n",
    "total_bedrooms_median"
   ]
  },
  {
   "cell_type": "code",
   "execution_count": null,
   "id": "a2403524-4b58-4928-94bb-f9898eb903c8",
   "metadata": {},
   "outputs": [],
   "source": [
    "train_features.info()"
   ]
  },
  {
   "cell_type": "code",
   "execution_count": null,
   "id": "bc6f2b5a-d414-47b4-8b0d-c0dd1ca4a2b5",
   "metadata": {},
   "outputs": [],
   "source": [
    "# sklearn impute    میسینگ ولیو هار و پیدا و جایگزین یا مدیریت میکنیم"
   ]
  },
  {
   "cell_type": "code",
   "execution_count": null,
   "id": "30b0578f-d05f-4fa4-8ce2-08f8ffda6ebb",
   "metadata": {},
   "outputs": [],
   "source": [
    "from sklearn.impute import SimpleImputer\n"
   ]
  },
  {
   "cell_type": "code",
   "execution_count": null,
   "id": "adb48da1-9b21-4c21-89fa-fc4de3d04c60",
   "metadata": {},
   "outputs": [],
   "source": [
    "simple_imputer=SimpleImputer(strategy=\"median\")"
   ]
  },
  {
   "cell_type": "code",
   "execution_count": null,
   "id": "67e74a15-67ab-41e5-8685-a3d4bf860467",
   "metadata": {},
   "outputs": [],
   "source": [
    "# train_features.info()\n",
    "train_features_numeric= train_features.select_dtypes(include=[np.number])\n",
    "train_features_numeric.info()"
   ]
  },
  {
   "cell_type": "code",
   "execution_count": null,
   "id": "b2916f77-c1ac-431b-8e3e-0af7315b5500",
   "metadata": {},
   "outputs": [],
   "source": [
    "simple_imputer.fit(train_features_numeric)"
   ]
  },
  {
   "cell_type": "code",
   "execution_count": null,
   "id": "bb8c3df5-5a61-4dab-9afe-e7a526500766",
   "metadata": {},
   "outputs": [],
   "source": [
    "simple_imputer.statistics_"
   ]
  },
  {
   "cell_type": "code",
   "execution_count": null,
   "id": "71c0aad0-68a3-4862-abfb-7910e7a71a66",
   "metadata": {},
   "outputs": [],
   "source": [
    "train_features_numeric.median().value()"
   ]
  },
  {
   "cell_type": "code",
   "execution_count": null,
   "id": "0b6898c8-5179-408f-a1e9-cf94131ece2c",
   "metadata": {},
   "outputs": [],
   "source": [
    "simple_imputer.transform(train_features_numeric).shape"
   ]
  },
  {
   "cell_type": "code",
   "execution_count": null,
   "id": "ff003af7-9d32-4193-b7af-dcfd6e4fe6db",
   "metadata": {},
   "outputs": [],
   "source": [
    "pd.DataFrame(simple_imputer.transform(train_features_numeric),\n",
    "            columns=train_features_numeric.columns,\n",
    "            index=train_features_numeric.index).info()\n",
    "\n",
    "\n",
    "# پینهاد اینه که از  imputer استفاده کنیم "
   ]
  },
  {
   "cell_type": "code",
   "execution_count": null,
   "id": "0a2f7b22-4a43-4549-a07d-4d9224ec98ad",
   "metadata": {},
   "outputs": [],
   "source": [
    "# consistancy  ساختار ثابتی داره \n",
    "## estimator  هر ابجکتی که میشه بر اساس یه سری فیچر یه چیزی رو حدس زنه \n",
    "## transformer دیتا ست رو از یه حالت به یه حالت دیگه تبدیل میکنه \n",
    "## predictors پیش بینی کننده ها   متد  score , ...\n",
    "## inspection تنظیم ورودی ها \n",
    "## composition ساخت پایپ لاین از عملکرد های مختلف\n",
    "## "
   ]
  },
  {
   "cell_type": "code",
   "execution_count": null,
   "id": "351782f2-cbb1-4580-9cba-ca92b96f3074",
   "metadata": {},
   "outputs": [],
   "source": [
    "#  categorical features\n",
    "train_features[[\"ocean_proximity\"]].value_counts()\n"
   ]
  },
  {
   "cell_type": "code",
   "execution_count": null,
   "id": "77423faa-4ffa-4b06-aff5-35eabedc7d02",
   "metadata": {},
   "outputs": [],
   "source": [
    "train_features_categorical=train_features[[\"ocean_proximity\"]]"
   ]
  },
  {
   "cell_type": "code",
   "execution_count": null,
   "id": "afb2a3c4-f193-475f-8e5c-ef47f07b4e3a",
   "metadata": {},
   "outputs": [],
   "source": [
    "from sklearn.preprocessing import OrdinalEncoder     # یکی از راه ها برای تبدیل کتگوری به عدد "
   ]
  },
  {
   "cell_type": "code",
   "execution_count": null,
   "id": "5254cf95-4a4b-421d-9ee2-517884bb0438",
   "metadata": {},
   "outputs": [],
   "source": [
    "oe=OrdinalEncoder()\n",
    "ocean_proximity_index=oe.fit_transform(train_features_categorical)\n",
    "ocean_proximity_index"
   ]
  },
  {
   "cell_type": "code",
   "execution_count": null,
   "id": "61958fa1-4c6f-458c-ac2e-ca41cf966699",
   "metadata": {},
   "outputs": [],
   "source": [
    "oe.categories_"
   ]
  },
  {
   "cell_type": "code",
   "execution_count": null,
   "id": "0fe408cc-720d-457a-bd5d-eea57388574d",
   "metadata": {},
   "outputs": [],
   "source": [
    "from sklearn.preprocessing import OneHotEncoder"
   ]
  },
  {
   "cell_type": "code",
   "execution_count": null,
   "id": "8219b49b-a1a2-4e7b-ac94-530b15658834",
   "metadata": {},
   "outputs": [],
   "source": [
    "ohe=OneHotEncoder()\n",
    "ocean_proximity_ohe=ohe.fit_transform(train_features_categorical)"
   ]
  },
  {
   "cell_type": "code",
   "execution_count": null,
   "id": "14978ee8-aec7-4ced-b941-c58d6d9afcc3",
   "metadata": {},
   "outputs": [],
   "source": [
    "ocean_proximity_ohe.toarray()"
   ]
  },
  {
   "cell_type": "code",
   "execution_count": null,
   "id": "b518a133-a3be-4dfd-992d-479020c50db0",
   "metadata": {},
   "outputs": [],
   "source": [
    "train_features_categorical_ohe=pd.DataFrame(ocean_proximity_ohe.toarray(), \n",
    "                                            columns=ohe.get_feature_names_out())"
   ]
  },
  {
   "cell_type": "code",
   "execution_count": null,
   "id": "dd28a7e7-ff41-40eb-b55b-76096c3aa772",
   "metadata": {},
   "outputs": [],
   "source": [
    "from sklearn.preprocessing import MinMaxScaler"
   ]
  },
  {
   "cell_type": "code",
   "execution_count": null,
   "id": "4f28f900-84da-4876-a642-76fa50c69e8c",
   "metadata": {},
   "outputs": [],
   "source": [
    "mms=MinMaxScaler(feature_range=(-1,1))"
   ]
  },
  {
   "cell_type": "code",
   "execution_count": null,
   "id": "f58b8321-9f0c-4526-8b7d-73c8e6fe1199",
   "metadata": {},
   "outputs": [],
   "source": [
    "mms.fit_transform(train_features_numeric)"
   ]
  },
  {
   "cell_type": "code",
   "execution_count": null,
   "id": "38106a26-7386-4d4d-b8fc-75bba354e5a7",
   "metadata": {},
   "outputs": [],
   "source": [
    "from sklearn.preprocessing import StandardScaler"
   ]
  },
  {
   "cell_type": "code",
   "execution_count": null,
   "id": "696eb1c5-d81c-4dfa-a6ee-f0ff6eb764b6",
   "metadata": {},
   "outputs": [],
   "source": [
    "ss=StandardScaler()"
   ]
  },
  {
   "cell_type": "code",
   "execution_count": null,
   "id": "ecd68317-8cd4-4dbd-a469-566cbd312c0a",
   "metadata": {},
   "outputs": [],
   "source": [
    "ss.fit_transform(train_features_numeric)\n",
    "ss.fit_transform(train_features_numeric).min()\n",
    "ss.fit_transform(train_features_numeric).max()"
   ]
  },
  {
   "cell_type": "code",
   "execution_count": null,
   "id": "f3a06bb3-29a9-4a99-9756-25e28dc0834c",
   "metadata": {},
   "outputs": [],
   "source": [
    "train_features_numeric[\"total_rooms\"].apply(np.log).hist()       # این متقارن تره و توزیع نرمال داره "
   ]
  },
  {
   "cell_type": "code",
   "execution_count": null,
   "id": "7b81da12-0de8-48a9-87b0-150eee6c47a8",
   "metadata": {},
   "outputs": [],
   "source": [
    "from sklearn.metrics.pairwise import rbf_kernel"
   ]
  },
  {
   "cell_type": "code",
   "execution_count": null,
   "id": "f62fa9c8-bd97-4e53-9dbd-c7d016d6fe90",
   "metadata": {},
   "outputs": [],
   "source": [
    "rbf_kernel(train_features_numeric[[\"housing_median_age\"]] ,[[35]] ,gamma=0.1)"
   ]
  },
  {
   "cell_type": "code",
   "execution_count": null,
   "id": "68a2cba0-0fdf-4cd3-81a0-aac28e2e21d2",
   "metadata": {},
   "outputs": [],
   "source": [
    "train_features_numeric[[\"housing_median_age\"]]"
   ]
  },
  {
   "cell_type": "code",
   "execution_count": null,
   "id": "45b09bc0-ba24-4e1d-a595-f00bd5abcdac",
   "metadata": {},
   "outputs": [],
   "source": [
    "fig, ax = plt.subplots()\n",
    "ax.hist(train_features_numeric[\"housing_median_age\"], bins=30)\n",
    "\n",
    "housing_ages=np.linspace(train_features_numeric[\"housing_median_age\"].min(), \n",
    "                        train_features_numeric[\"housing_median_age\"].max(), \n",
    "                       1000).reshape(-1,1)\n",
    "\n",
    "rbf1=rbf_kernel(housing_ages, [[35]],gamma=0.1)\n",
    "rbf2=rbf_kernel(housing_ages, [[35]],gamma=0.2)\n",
    "ax2=ax.twinx()\n",
    "ax2.plot(housing_ages, rbf1, color=\"red\", lw=2)\n",
    "ax2.plot(housing_ages, rbf2, color=\"black\", lw=2)"
   ]
  },
  {
   "cell_type": "code",
   "execution_count": null,
   "id": "9be9abf6-4a8d-46ec-90c0-2eb5deb0ed92",
   "metadata": {},
   "outputs": [],
   "source": [
    "from sklearn.linear_model import LinearRegression"
   ]
  },
  {
   "cell_type": "code",
   "execution_count": null,
   "id": "686d839b-778f-43c2-9540-e0f455ed786c",
   "metadata": {},
   "outputs": [],
   "source": [
    "train_target.to_frame()"
   ]
  },
  {
   "cell_type": "code",
   "execution_count": null,
   "id": "7ecc3e49-e860-4647-b146-50bdf9865b27",
   "metadata": {},
   "outputs": [],
   "source": [
    "ss=StandardScaler()\n",
    "traget_values=ss.fit_transform(train_target.to_frame())\n",
    "traget_values"
   ]
  },
  {
   "cell_type": "code",
   "execution_count": null,
   "id": "7ee93c95-5af0-4162-b7d2-2de118abe889",
   "metadata": {},
   "outputs": [],
   "source": [
    "model=LinearRegression()\n",
    "model.fit(train_features_numeric[[\"median_income\"]], traget_values)   #  حتما باید دو بعدی بدم وگرنه ارورو میده "
   ]
  },
  {
   "cell_type": "code",
   "execution_count": null,
   "id": "2f49bb66-77a8-49b7-a48a-0207ab63a1b6",
   "metadata": {},
   "outputs": [],
   "source": [
    "predictions=model.predict(train_features_numeric[[\"median_income\"]].iloc[:5])"
   ]
  },
  {
   "cell_type": "code",
   "execution_count": null,
   "id": "400dc6c0-88ed-4849-8e26-8748ad1b65c8",
   "metadata": {},
   "outputs": [],
   "source": [
    "ss.inverse_transform(predictions)"
   ]
  },
  {
   "cell_type": "code",
   "execution_count": null,
   "id": "33ad80cf-f8fa-4140-abb6-1642d0567fac",
   "metadata": {},
   "outputs": [],
   "source": [
    "#  یه روش آسون تر \n",
    "\n",
    "from sklearn.compose import TransformedTargetRegressor"
   ]
  },
  {
   "cell_type": "code",
   "execution_count": null,
   "id": "640f74dc-af51-4b25-b0c5-fc51fbff926f",
   "metadata": {},
   "outputs": [],
   "source": [
    "model=TransformedTargetRegressor(LinearRegression(), transformer=StandardScaler() )\n",
    "model.fit(train_features_numeric[[\"median_income\"]],\n",
    "         train_target.to_frame())"
   ]
  },
  {
   "cell_type": "code",
   "execution_count": 26,
   "id": "f2734026-cb6e-4e1d-bfbf-b2705d18f379",
   "metadata": {},
   "outputs": [
    {
     "ename": "NameError",
     "evalue": "name 'model' is not defined",
     "output_type": "error",
     "traceback": [
      "\u001b[31m---------------------------------------------------------------------------\u001b[39m",
      "\u001b[31mNameError\u001b[39m                                 Traceback (most recent call last)",
      "\u001b[36mCell\u001b[39m\u001b[36m \u001b[39m\u001b[32mIn[26]\u001b[39m\u001b[32m, line 1\u001b[39m\n\u001b[32m----> \u001b[39m\u001b[32m1\u001b[39m \u001b[43mmodel\u001b[49m.predict(train_features_numeric[[\u001b[33m\"\u001b[39m\u001b[33mmedian_income\u001b[39m\u001b[33m\"\u001b[39m]].iloc[:\u001b[32m5\u001b[39m])\n",
      "\u001b[31mNameError\u001b[39m: name 'model' is not defined"
     ]
    }
   ],
   "source": [
    "model.predict(train_features_numeric[[\"median_income\"]].iloc[:5])"
   ]
  },
  {
   "cell_type": "code",
   "execution_count": 27,
   "id": "e0c8e76f-24f8-4316-a217-68225cb9ed84",
   "metadata": {},
   "outputs": [],
   "source": [
    "from sklearn.preprocessing import FunctionTransformer"
   ]
  },
  {
   "cell_type": "code",
   "execution_count": 28,
   "id": "a8f53ef9-d638-4e08-be0a-add4837b334d",
   "metadata": {},
   "outputs": [
    {
     "ename": "NameError",
     "evalue": "name 'train_features_numeric' is not defined",
     "output_type": "error",
     "traceback": [
      "\u001b[31m---------------------------------------------------------------------------\u001b[39m",
      "\u001b[31mNameError\u001b[39m                                 Traceback (most recent call last)",
      "\u001b[36mCell\u001b[39m\u001b[36m \u001b[39m\u001b[32mIn[28]\u001b[39m\u001b[32m, line 2\u001b[39m\n\u001b[32m      1\u001b[39m logarithmic_transformer=FunctionTransformer(np.log, inverse_func=np.exp)\n\u001b[32m----> \u001b[39m\u001b[32m2\u001b[39m logarithmic_transformer.transform(\u001b[43mtrain_features_numeric\u001b[49m[[\u001b[33m\"\u001b[39m\u001b[33mpopulation\u001b[39m\u001b[33m\"\u001b[39m]])\n",
      "\u001b[31mNameError\u001b[39m: name 'train_features_numeric' is not defined"
     ]
    }
   ],
   "source": [
    "logarithmic_transformer=FunctionTransformer(np.log, inverse_func=np.exp)\n",
    "logarithmic_transformer.transform(train_features_numeric[[\"population\"]])"
   ]
  },
  {
   "cell_type": "code",
   "execution_count": 29,
   "id": "0b52758a-d11d-4ab9-81e3-7c60ec6ab550",
   "metadata": {},
   "outputs": [
    {
     "ename": "NameError",
     "evalue": "name 'rbf_kernel' is not defined",
     "output_type": "error",
     "traceback": [
      "\u001b[31m---------------------------------------------------------------------------\u001b[39m",
      "\u001b[31mNameError\u001b[39m                                 Traceback (most recent call last)",
      "\u001b[36mCell\u001b[39m\u001b[36m \u001b[39m\u001b[32mIn[29]\u001b[39m\u001b[32m, line 1\u001b[39m\n\u001b[32m----> \u001b[39m\u001b[32m1\u001b[39m rbf_transformer=FunctionTransformer(\u001b[43mrbf_kernel\u001b[49m,\n\u001b[32m      2\u001b[39m                    kw_args={\u001b[33m'\u001b[39m\u001b[33mY\u001b[39m\u001b[33m'\u001b[39m:[[\u001b[32m35\u001b[39m]], \u001b[33m\"\u001b[39m\u001b[33mgamma\u001b[39m\u001b[33m\"\u001b[39m:\u001b[32m0.1\u001b[39m})\n",
      "\u001b[31mNameError\u001b[39m: name 'rbf_kernel' is not defined"
     ]
    }
   ],
   "source": [
    "rbf_transformer=FunctionTransformer(rbf_kernel,\n",
    "                   kw_args={'Y':[[35]], \"gamma\":0.1})"
   ]
  },
  {
   "cell_type": "code",
   "execution_count": 30,
   "id": "bce89157-59d8-441d-b047-60527f0aa841",
   "metadata": {},
   "outputs": [
    {
     "ename": "NameError",
     "evalue": "name 'rbf_transformer' is not defined",
     "output_type": "error",
     "traceback": [
      "\u001b[31m---------------------------------------------------------------------------\u001b[39m",
      "\u001b[31mNameError\u001b[39m                                 Traceback (most recent call last)",
      "\u001b[36mCell\u001b[39m\u001b[36m \u001b[39m\u001b[32mIn[30]\u001b[39m\u001b[32m, line 1\u001b[39m\n\u001b[32m----> \u001b[39m\u001b[32m1\u001b[39m \u001b[43mrbf_transformer\u001b[49m.transform(train_features_numeric[[\u001b[33m\"\u001b[39m\u001b[33mhousing_median_age\u001b[39m\u001b[33m\"\u001b[39m]])\n",
      "\u001b[31mNameError\u001b[39m: name 'rbf_transformer' is not defined"
     ]
    }
   ],
   "source": [
    "rbf_transformer.transform(train_features_numeric[[\"housing_median_age\"]])"
   ]
  },
  {
   "cell_type": "code",
   "execution_count": 31,
   "id": "052f14b6-7953-4319-a944-e65dc5ff3c65",
   "metadata": {},
   "outputs": [],
   "source": [
    "# duc typing : اگه یه چیی شبیه اردکه و مثل اردک راه میره پس اون اردکه \n",
    "# خود آبجکت های اون کلاس تایپ شون چک نمیشه بلکه متد های اون کلاس چک میشه \n"
   ]
  },
  {
   "cell_type": "code",
   "execution_count": 32,
   "id": "6eb9b260-2451-4676-9df7-330a8ec22fd3",
   "metadata": {},
   "outputs": [],
   "source": [
    "from sklearn.utils.validation import check_array, check_is_fitted\n",
    "from  sklearn.base import BaseEstimator, TransformerMixin"
   ]
  },
  {
   "cell_type": "code",
   "execution_count": 33,
   "id": "91da2432-4f37-46d3-ac87-c1306732a249",
   "metadata": {},
   "outputs": [],
   "source": [
    "class CustomStandardScaler(BaseEstimator,TransformerMixin):\n",
    "    def __init__(self , hp=0):\n",
    "        self.hp=hp\n",
    "    def fit(self , X, y=None):\n",
    "        X=check_array(X)\n",
    "        self.mean_of_X=X.mean(axis=0)\n",
    "        self.std_of_X=X.std(axis=0)\n",
    "        self.n_features_in_=X.shape[1]   #همشه  اینو بنویس \n",
    "        return self                       # اینم همیشه بنویس \n",
    "\n",
    "    def transform(self, X):\n",
    "        check_is_fitted(self)\n",
    "        assert self.n_features_in_==X.shape[1]\n",
    "        X=X - self.mean_of_X\n",
    "        return X / self.std_of_X"
   ]
  },
  {
   "cell_type": "code",
   "execution_count": 34,
   "id": "1f0776d3-0dd7-4a42-b408-c8e6fbf42c81",
   "metadata": {},
   "outputs": [
    {
     "ename": "NameError",
     "evalue": "name 'train_features_numeric' is not defined",
     "output_type": "error",
     "traceback": [
      "\u001b[31m---------------------------------------------------------------------------\u001b[39m",
      "\u001b[31mNameError\u001b[39m                                 Traceback (most recent call last)",
      "\u001b[36mCell\u001b[39m\u001b[36m \u001b[39m\u001b[32mIn[34]\u001b[39m\u001b[32m, line 2\u001b[39m\n\u001b[32m      1\u001b[39m css=CustomStandardScaler()\n\u001b[32m----> \u001b[39m\u001b[32m2\u001b[39m css.fit(\u001b[43mtrain_features_numeric\u001b[49m)\n",
      "\u001b[31mNameError\u001b[39m: name 'train_features_numeric' is not defined"
     ]
    }
   ],
   "source": [
    "css=CustomStandardScaler()\n",
    "css.fit(train_features_numeric)"
   ]
  },
  {
   "cell_type": "code",
   "execution_count": 35,
   "id": "1db5cf67-141b-4445-a355-1bc6e2a3883f",
   "metadata": {},
   "outputs": [
    {
     "ename": "NameError",
     "evalue": "name 'train_features_numeric' is not defined",
     "output_type": "error",
     "traceback": [
      "\u001b[31m---------------------------------------------------------------------------\u001b[39m",
      "\u001b[31mNameError\u001b[39m                                 Traceback (most recent call last)",
      "\u001b[36mCell\u001b[39m\u001b[36m \u001b[39m\u001b[32mIn[35]\u001b[39m\u001b[32m, line 1\u001b[39m\n\u001b[32m----> \u001b[39m\u001b[32m1\u001b[39m css.transform(\u001b[43mtrain_features_numeric\u001b[49m)\n",
      "\u001b[31mNameError\u001b[39m: name 'train_features_numeric' is not defined"
     ]
    }
   ],
   "source": [
    "css.transform(train_features_numeric)"
   ]
  },
  {
   "cell_type": "markdown",
   "id": "c8c1c2d9-4704-4599-b6fc-2d029c48b6c3",
   "metadata": {},
   "source": [
    "# pipeline "
   ]
  },
  {
   "cell_type": "code",
   "execution_count": 36,
   "id": "327187a0-8cb5-4096-807b-fc546868bfb0",
   "metadata": {},
   "outputs": [],
   "source": [
    "from sklearn.pipeline import Pipeline, make_pipeline"
   ]
  },
  {
   "cell_type": "code",
   "execution_count": 37,
   "id": "d4e6862b-e216-481e-bc57-a8543f4ad1bd",
   "metadata": {},
   "outputs": [
    {
     "ename": "NameError",
     "evalue": "name 'SimpleImputer' is not defined",
     "output_type": "error",
     "traceback": [
      "\u001b[31m---------------------------------------------------------------------------\u001b[39m",
      "\u001b[31mNameError\u001b[39m                                 Traceback (most recent call last)",
      "\u001b[36mCell\u001b[39m\u001b[36m \u001b[39m\u001b[32mIn[37]\u001b[39m\u001b[32m, line 2\u001b[39m\n\u001b[32m      1\u001b[39m numerical_featers_pipline=Pipeline([\n\u001b[32m----> \u001b[39m\u001b[32m2\u001b[39m     (\u001b[33m\"\u001b[39m\u001b[33mmedianImputer\u001b[39m\u001b[33m\"\u001b[39m , \u001b[43mSimpleImputer\u001b[49m(strategy=\u001b[33m\"\u001b[39m\u001b[33mmedian\u001b[39m\u001b[33m\"\u001b[39m)),\n\u001b[32m      3\u001b[39m     (\u001b[33m\"\u001b[39m\u001b[33mminMaxScaler\u001b[39m\u001b[33m\"\u001b[39m, MinMaxScaler())\n\u001b[32m      4\u001b[39m ])\n",
      "\u001b[31mNameError\u001b[39m: name 'SimpleImputer' is not defined"
     ]
    }
   ],
   "source": [
    "numerical_featers_pipline=Pipeline([\n",
    "    (\"medianImputer\" , SimpleImputer(strategy=\"median\")),\n",
    "    (\"minMaxScaler\", MinMaxScaler())\n",
    "])"
   ]
  },
  {
   "cell_type": "code",
   "execution_count": 38,
   "id": "8e8953c4-366e-4b8c-867a-1b3392a29286",
   "metadata": {},
   "outputs": [
    {
     "ename": "NameError",
     "evalue": "name 'SimpleImputer' is not defined",
     "output_type": "error",
     "traceback": [
      "\u001b[31m---------------------------------------------------------------------------\u001b[39m",
      "\u001b[31mNameError\u001b[39m                                 Traceback (most recent call last)",
      "\u001b[36mCell\u001b[39m\u001b[36m \u001b[39m\u001b[32mIn[38]\u001b[39m\u001b[32m, line 2\u001b[39m\n\u001b[32m      1\u001b[39m make_pipeline(\n\u001b[32m----> \u001b[39m\u001b[32m2\u001b[39m     \u001b[43mSimpleImputer\u001b[49m(strategy=\u001b[33m\"\u001b[39m\u001b[33mmedian\u001b[39m\u001b[33m\"\u001b[39m),\n\u001b[32m      3\u001b[39m     MinMaxScaler()\n\u001b[32m      4\u001b[39m )\n",
      "\u001b[31mNameError\u001b[39m: name 'SimpleImputer' is not defined"
     ]
    }
   ],
   "source": [
    "make_pipeline(\n",
    "    SimpleImputer(strategy=\"median\"),\n",
    "    MinMaxScaler()\n",
    ")"
   ]
  },
  {
   "cell_type": "code",
   "execution_count": 39,
   "id": "13b736e9-aeae-4a6e-90d1-1ffad4b45302",
   "metadata": {},
   "outputs": [
    {
     "ename": "NameError",
     "evalue": "name 'numerical_featers_pipline' is not defined",
     "output_type": "error",
     "traceback": [
      "\u001b[31m---------------------------------------------------------------------------\u001b[39m",
      "\u001b[31mNameError\u001b[39m                                 Traceback (most recent call last)",
      "\u001b[36mCell\u001b[39m\u001b[36m \u001b[39m\u001b[32mIn[39]\u001b[39m\u001b[32m, line 1\u001b[39m\n\u001b[32m----> \u001b[39m\u001b[32m1\u001b[39m \u001b[43mnumerical_featers_pipline\u001b[49m.fit_transform(train_features_numeric)\n",
      "\u001b[31mNameError\u001b[39m: name 'numerical_featers_pipline' is not defined"
     ]
    }
   ],
   "source": [
    "numerical_featers_pipline.fit_transform(train_features_numeric)"
   ]
  },
  {
   "cell_type": "code",
   "execution_count": 40,
   "id": "8695106d-7d1d-4c8b-b989-69e33249cf17",
   "metadata": {},
   "outputs": [],
   "source": [
    "\n",
    "from sklearn.compose import ColumnTransformer"
   ]
  },
  {
   "cell_type": "code",
   "execution_count": 41,
   "id": "093da4d4-301a-419a-8cf5-86b2a1116c99",
   "metadata": {},
   "outputs": [
    {
     "ename": "NameError",
     "evalue": "name 'train_features' is not defined",
     "output_type": "error",
     "traceback": [
      "\u001b[31m---------------------------------------------------------------------------\u001b[39m",
      "\u001b[31mNameError\u001b[39m                                 Traceback (most recent call last)",
      "\u001b[36mCell\u001b[39m\u001b[36m \u001b[39m\u001b[32mIn[41]\u001b[39m\u001b[32m, line 1\u001b[39m\n\u001b[32m----> \u001b[39m\u001b[32m1\u001b[39m \u001b[43mtrain_features\u001b[49m.columns\n",
      "\u001b[31mNameError\u001b[39m: name 'train_features' is not defined"
     ]
    }
   ],
   "source": [
    "train_features.columns"
   ]
  },
  {
   "cell_type": "code",
   "execution_count": 42,
   "id": "7b3a5bb9-1d56-47a9-8ab5-f0be3ed7c898",
   "metadata": {},
   "outputs": [
    {
     "ename": "NameError",
     "evalue": "name 'train_features' is not defined",
     "output_type": "error",
     "traceback": [
      "\u001b[31m---------------------------------------------------------------------------\u001b[39m",
      "\u001b[31mNameError\u001b[39m                                 Traceback (most recent call last)",
      "\u001b[36mCell\u001b[39m\u001b[36m \u001b[39m\u001b[32mIn[42]\u001b[39m\u001b[32m, line 1\u001b[39m\n\u001b[32m----> \u001b[39m\u001b[32m1\u001b[39m \u001b[38;5;28mlist\u001b[39m(\u001b[43mtrain_features\u001b[49m.columns).remove(\u001b[33m\"\u001b[39m\u001b[33mocean_proximity\u001b[39m\u001b[33m\"\u001b[39m)\n",
      "\u001b[31mNameError\u001b[39m: name 'train_features' is not defined"
     ]
    }
   ],
   "source": [
    "list(train_features.columns).remove(\"ocean_proximity\")"
   ]
  },
  {
   "cell_type": "code",
   "execution_count": 43,
   "id": "f84e4e9d-a2d7-480d-bc14-62dfb649bc8b",
   "metadata": {},
   "outputs": [
    {
     "ename": "NameError",
     "evalue": "name 'train_features' is not defined",
     "output_type": "error",
     "traceback": [
      "\u001b[31m---------------------------------------------------------------------------\u001b[39m",
      "\u001b[31mNameError\u001b[39m                                 Traceback (most recent call last)",
      "\u001b[36mCell\u001b[39m\u001b[36m \u001b[39m\u001b[32mIn[43]\u001b[39m\u001b[32m, line 1\u001b[39m\n\u001b[32m----> \u001b[39m\u001b[32m1\u001b[39m \u001b[43mtrain_features\u001b[49m\n",
      "\u001b[31mNameError\u001b[39m: name 'train_features' is not defined"
     ]
    }
   ],
   "source": [
    "train_features"
   ]
  },
  {
   "cell_type": "code",
   "execution_count": 44,
   "id": "17e6b697-d7d7-4447-a7a8-e8630077c18d",
   "metadata": {},
   "outputs": [
    {
     "ename": "NameError",
     "evalue": "name 'train_features' is not defined",
     "output_type": "error",
     "traceback": [
      "\u001b[31m---------------------------------------------------------------------------\u001b[39m",
      "\u001b[31mNameError\u001b[39m                                 Traceback (most recent call last)",
      "\u001b[36mCell\u001b[39m\u001b[36m \u001b[39m\u001b[32mIn[44]\u001b[39m\u001b[32m, line 1\u001b[39m\n\u001b[32m----> \u001b[39m\u001b[32m1\u001b[39m numerical_featers=\u001b[38;5;28mlist\u001b[39m(\u001b[43mtrain_features\u001b[49m.columns)\n\u001b[32m      2\u001b[39m numerical_featers.remove(\u001b[33m\"\u001b[39m\u001b[33mocean_proximity\u001b[39m\u001b[33m\"\u001b[39m)\n\u001b[32m      3\u001b[39m numerical_featers\n",
      "\u001b[31mNameError\u001b[39m: name 'train_features' is not defined"
     ]
    }
   ],
   "source": [
    "numerical_featers=list(train_features.columns)\n",
    "numerical_featers.remove(\"ocean_proximity\")\n",
    "numerical_featers"
   ]
  },
  {
   "cell_type": "code",
   "execution_count": 45,
   "id": "f0c396b4-f90e-4c0b-86f7-1af723d759e8",
   "metadata": {},
   "outputs": [],
   "source": [
    "categorical_features=[\"ocean_proximity\"]"
   ]
  },
  {
   "cell_type": "code",
   "execution_count": 46,
   "id": "41fb48c5-bf04-4403-ac39-3b9c6c6a0b76",
   "metadata": {},
   "outputs": [
    {
     "ename": "NameError",
     "evalue": "name 'SimpleImputer' is not defined",
     "output_type": "error",
     "traceback": [
      "\u001b[31m---------------------------------------------------------------------------\u001b[39m",
      "\u001b[31mNameError\u001b[39m                                 Traceback (most recent call last)",
      "\u001b[36mCell\u001b[39m\u001b[36m \u001b[39m\u001b[32mIn[46]\u001b[39m\u001b[32m, line 2\u001b[39m\n\u001b[32m      1\u001b[39m numerical_featers_pipline=Pipeline([\n\u001b[32m----> \u001b[39m\u001b[32m2\u001b[39m     (\u001b[33m\"\u001b[39m\u001b[33mmedianImputer\u001b[39m\u001b[33m\"\u001b[39m , \u001b[43mSimpleImputer\u001b[49m(strategy=\u001b[33m\"\u001b[39m\u001b[33mmedian\u001b[39m\u001b[33m\"\u001b[39m)),\n\u001b[32m      3\u001b[39m     (\u001b[33m\"\u001b[39m\u001b[33mminMaxScaler\u001b[39m\u001b[33m\"\u001b[39m, MinMaxScaler())\n\u001b[32m      4\u001b[39m ])\n",
      "\u001b[31mNameError\u001b[39m: name 'SimpleImputer' is not defined"
     ]
    }
   ],
   "source": [
    "numerical_featers_pipline=Pipeline([\n",
    "    (\"medianImputer\" , SimpleImputer(strategy=\"median\")),\n",
    "    (\"minMaxScaler\", MinMaxScaler())\n",
    "])"
   ]
  },
  {
   "cell_type": "code",
   "execution_count": 47,
   "id": "87158766-365b-4ad2-bbed-4e1cfc748fb1",
   "metadata": {},
   "outputs": [
    {
     "ename": "NameError",
     "evalue": "name 'SimpleImputer' is not defined",
     "output_type": "error",
     "traceback": [
      "\u001b[31m---------------------------------------------------------------------------\u001b[39m",
      "\u001b[31mNameError\u001b[39m                                 Traceback (most recent call last)",
      "\u001b[36mCell\u001b[39m\u001b[36m \u001b[39m\u001b[32mIn[47]\u001b[39m\u001b[32m, line 2\u001b[39m\n\u001b[32m      1\u001b[39m categorical_featers_pipline=Pipeline([\n\u001b[32m----> \u001b[39m\u001b[32m2\u001b[39m     (\u001b[33m\"\u001b[39m\u001b[33mmfImputer\u001b[39m\u001b[33m\"\u001b[39m , \u001b[43mSimpleImputer\u001b[49m(strategy=\u001b[33m\"\u001b[39m\u001b[33mmost_frequent\u001b[39m\u001b[33m\"\u001b[39m)),\n\u001b[32m      3\u001b[39m     (\u001b[33m\"\u001b[39m\u001b[33mohe\u001b[39m\u001b[33m\"\u001b[39m, OneHotEncoder())\n\u001b[32m      4\u001b[39m ])\n",
      "\u001b[31mNameError\u001b[39m: name 'SimpleImputer' is not defined"
     ]
    }
   ],
   "source": [
    "categorical_featers_pipline=Pipeline([\n",
    "    (\"mfImputer\" , SimpleImputer(strategy=\"most_frequent\")),\n",
    "    (\"ohe\", OneHotEncoder())\n",
    "])"
   ]
  },
  {
   "cell_type": "code",
   "execution_count": 48,
   "id": "4317d7e4-a0f6-4734-8a70-1146431ccae7",
   "metadata": {},
   "outputs": [
    {
     "ename": "NameError",
     "evalue": "name 'numerical_featers_pipline' is not defined",
     "output_type": "error",
     "traceback": [
      "\u001b[31m---------------------------------------------------------------------------\u001b[39m",
      "\u001b[31mNameError\u001b[39m                                 Traceback (most recent call last)",
      "\u001b[36mCell\u001b[39m\u001b[36m \u001b[39m\u001b[32mIn[48]\u001b[39m\u001b[32m, line 2\u001b[39m\n\u001b[32m      1\u001b[39m total_transformation=ColumnTransformer([\n\u001b[32m----> \u001b[39m\u001b[32m2\u001b[39m     (\u001b[33m\"\u001b[39m\u001b[33mnumerical\u001b[39m\u001b[33m\"\u001b[39m , \u001b[43mnumerical_featers_pipline\u001b[49m, numerical_featers),\n\u001b[32m      3\u001b[39m     (\u001b[33m\"\u001b[39m\u001b[33mcategorical\u001b[39m\u001b[33m\"\u001b[39m , categorical_featers_pipline, categorical_features)\n\u001b[32m      4\u001b[39m ])\n",
      "\u001b[31mNameError\u001b[39m: name 'numerical_featers_pipline' is not defined"
     ]
    }
   ],
   "source": [
    "total_transformation=ColumnTransformer([\n",
    "    (\"numerical\" , numerical_featers_pipline, numerical_featers),\n",
    "    (\"categorical\" , categorical_featers_pipline, categorical_features)\n",
    "])"
   ]
  },
  {
   "cell_type": "code",
   "execution_count": 49,
   "id": "529dc8af-8784-4484-a22c-7916dc8d79f4",
   "metadata": {},
   "outputs": [
    {
     "ename": "NameError",
     "evalue": "name 'total_transformation' is not defined",
     "output_type": "error",
     "traceback": [
      "\u001b[31m---------------------------------------------------------------------------\u001b[39m",
      "\u001b[31mNameError\u001b[39m                                 Traceback (most recent call last)",
      "\u001b[36mCell\u001b[39m\u001b[36m \u001b[39m\u001b[32mIn[49]\u001b[39m\u001b[32m, line 1\u001b[39m\n\u001b[32m----> \u001b[39m\u001b[32m1\u001b[39m \u001b[43mtotal_transformation\u001b[49m.fit_transform(train_features)\n\u001b[32m      2\u001b[39m total_transformation\n",
      "\u001b[31mNameError\u001b[39m: name 'total_transformation' is not defined"
     ]
    }
   ],
   "source": [
    "total_transformation.fit_transform(train_features)\n",
    "total_transformation"
   ]
  },
  {
   "cell_type": "code",
   "execution_count": 50,
   "id": "b9e31055-5fab-46c8-8110-d41c2d8a29d9",
   "metadata": {},
   "outputs": [
    {
     "ename": "NameError",
     "evalue": "name 'total_transformation' is not defined",
     "output_type": "error",
     "traceback": [
      "\u001b[31m---------------------------------------------------------------------------\u001b[39m",
      "\u001b[31mNameError\u001b[39m                                 Traceback (most recent call last)",
      "\u001b[36mCell\u001b[39m\u001b[36m \u001b[39m\u001b[32mIn[50]\u001b[39m\u001b[32m, line 1\u001b[39m\n\u001b[32m----> \u001b[39m\u001b[32m1\u001b[39m \u001b[43mtotal_transformation\u001b[49m.get_feature_names_out()\n",
      "\u001b[31mNameError\u001b[39m: name 'total_transformation' is not defined"
     ]
    }
   ],
   "source": [
    "total_transformation.get_feature_names_out()"
   ]
  },
  {
   "cell_type": "code",
   "execution_count": 51,
   "id": "099e4184-c3e5-4c64-aa3b-f9f69654a255",
   "metadata": {},
   "outputs": [
    {
     "data": {
      "text/plain": [
       "'1.7.0'"
      ]
     },
     "execution_count": 51,
     "metadata": {},
     "output_type": "execute_result"
    }
   ],
   "source": [
    "import sklearn\n",
    "sklearn.__version__"
   ]
  },
  {
   "cell_type": "code",
   "execution_count": 52,
   "id": "62b75706-ca47-4c67-a221-5db53439423c",
   "metadata": {},
   "outputs": [
    {
     "data": {
      "text/plain": [
       "'passthrough'"
      ]
     },
     "execution_count": 52,
     "metadata": {},
     "output_type": "execute_result"
    }
   ],
   "source": [
    "\"drop\"  # برای حذف شدن\n",
    "\"passthrough\"   #کار خاصی نمیکنه "
   ]
  },
  {
   "cell_type": "code",
   "execution_count": 53,
   "id": "4f72eb6e-a485-4f2e-bfdc-1b033b2f7cec",
   "metadata": {},
   "outputs": [
    {
     "ename": "NameError",
     "evalue": "name 'SimpleImputer' is not defined",
     "output_type": "error",
     "traceback": [
      "\u001b[31m---------------------------------------------------------------------------\u001b[39m",
      "\u001b[31mNameError\u001b[39m                                 Traceback (most recent call last)",
      "\u001b[36mCell\u001b[39m\u001b[36m \u001b[39m\u001b[32mIn[53]\u001b[39m\u001b[32m, line 2\u001b[39m\n\u001b[32m      1\u001b[39m heavy_tail_pipeline=make_pipeline(\n\u001b[32m----> \u001b[39m\u001b[32m2\u001b[39m     \u001b[43mSimpleImputer\u001b[49m(strategy=\u001b[33m\"\u001b[39m\u001b[33mmedian\u001b[39m\u001b[33m\"\u001b[39m),\n\u001b[32m      3\u001b[39m     FunctionTransformer(np.log, feature_names_out=\u001b[33m\"\u001b[39m\u001b[33mone_to_one\u001b[39m\u001b[33m\"\u001b[39m),\n\u001b[32m      4\u001b[39m     StandardScaler()\n\u001b[32m      5\u001b[39m )\n",
      "\u001b[31mNameError\u001b[39m: name 'SimpleImputer' is not defined"
     ]
    }
   ],
   "source": [
    " heavy_tail_pipeline=make_pipeline(\n",
    "     SimpleImputer(strategy=\"median\"),\n",
    "     FunctionTransformer(np.log, feature_names_out=\"one_to_one\"),\n",
    "     StandardScaler()\n",
    " )"
   ]
  },
  {
   "cell_type": "code",
   "execution_count": 54,
   "id": "a7d79afe-067f-4296-8cf1-5623a6da9afa",
   "metadata": {},
   "outputs": [
    {
     "ename": "NameError",
     "evalue": "name 'SimpleImputer' is not defined",
     "output_type": "error",
     "traceback": [
      "\u001b[31m---------------------------------------------------------------------------\u001b[39m",
      "\u001b[31mNameError\u001b[39m                                 Traceback (most recent call last)",
      "\u001b[36mCell\u001b[39m\u001b[36m \u001b[39m\u001b[32mIn[54]\u001b[39m\u001b[32m, line 2\u001b[39m\n\u001b[32m      1\u001b[39m categorical_featers_pipline=Pipeline([\n\u001b[32m----> \u001b[39m\u001b[32m2\u001b[39m     (\u001b[33m\"\u001b[39m\u001b[33mmfImputer\u001b[39m\u001b[33m\"\u001b[39m , \u001b[43mSimpleImputer\u001b[49m(strategy=\u001b[33m\"\u001b[39m\u001b[33mmost_frequent\u001b[39m\u001b[33m\"\u001b[39m)),\n\u001b[32m      3\u001b[39m     (\u001b[33m\"\u001b[39m\u001b[33mohe\u001b[39m\u001b[33m\"\u001b[39m, OneHotEncoder())\n\u001b[32m      4\u001b[39m ])\n",
      "\u001b[31mNameError\u001b[39m: name 'SimpleImputer' is not defined"
     ]
    }
   ],
   "source": [
    "categorical_featers_pipline=Pipeline([\n",
    "    (\"mfImputer\" , SimpleImputer(strategy=\"most_frequent\")),\n",
    "    (\"ohe\", OneHotEncoder())\n",
    "])"
   ]
  },
  {
   "cell_type": "code",
   "execution_count": 55,
   "id": "f76fdba9-68f9-49a4-9739-1096cdaa58ee",
   "metadata": {},
   "outputs": [
    {
     "ename": "NameError",
     "evalue": "name 'rbf_kernel' is not defined",
     "output_type": "error",
     "traceback": [
      "\u001b[31m---------------------------------------------------------------------------\u001b[39m",
      "\u001b[31mNameError\u001b[39m                                 Traceback (most recent call last)",
      "\u001b[36mCell\u001b[39m\u001b[36m \u001b[39m\u001b[32mIn[55]\u001b[39m\u001b[32m, line 1\u001b[39m\n\u001b[32m----> \u001b[39m\u001b[32m1\u001b[39m housing_median_age=rbf_transformer=FunctionTransformer(\u001b[43mrbf_kernel\u001b[49m,\n\u001b[32m      2\u001b[39m                    kw_args={\u001b[33m'\u001b[39m\u001b[33mY\u001b[39m\u001b[33m'\u001b[39m:[[\u001b[32m35\u001b[39m]], \u001b[33m\"\u001b[39m\u001b[33mgamma\u001b[39m\u001b[33m\"\u001b[39m:\u001b[32m0.1\u001b[39m})\n",
      "\u001b[31mNameError\u001b[39m: name 'rbf_kernel' is not defined"
     ]
    }
   ],
   "source": [
    "housing_median_age=rbf_transformer=FunctionTransformer(rbf_kernel,\n",
    "                   kw_args={'Y':[[35]], \"gamma\":0.1})"
   ]
  },
  {
   "cell_type": "code",
   "execution_count": 56,
   "id": "90653b3d-24b8-4fe0-8107-9d58338bd01e",
   "metadata": {},
   "outputs": [
    {
     "ename": "NameError",
     "evalue": "name 'SimpleImputer' is not defined",
     "output_type": "error",
     "traceback": [
      "\u001b[31m---------------------------------------------------------------------------\u001b[39m",
      "\u001b[31mNameError\u001b[39m                                 Traceback (most recent call last)",
      "\u001b[36mCell\u001b[39m\u001b[36m \u001b[39m\u001b[32mIn[56]\u001b[39m\u001b[32m, line 2\u001b[39m\n\u001b[32m      1\u001b[39m default_numerical_pipeline=make_pipeline(\n\u001b[32m----> \u001b[39m\u001b[32m2\u001b[39m     \u001b[43mSimpleImputer\u001b[49m(strategy=\u001b[33m\"\u001b[39m\u001b[33mmedian\u001b[39m\u001b[33m\"\u001b[39m),\n\u001b[32m      3\u001b[39m     StandardScaler()\n\u001b[32m      4\u001b[39m )\n",
      "\u001b[31mNameError\u001b[39m: name 'SimpleImputer' is not defined"
     ]
    }
   ],
   "source": [
    "default_numerical_pipeline=make_pipeline(\n",
    "    SimpleImputer(strategy=\"median\"),\n",
    "    StandardScaler()\n",
    ")"
   ]
  },
  {
   "cell_type": "code",
   "execution_count": 57,
   "id": "9c12a4f3-b05a-4b52-82ae-c38ee3dfe5d1",
   "metadata": {},
   "outputs": [
    {
     "ename": "NameError",
     "evalue": "name 'X_train' is not defined",
     "output_type": "error",
     "traceback": [
      "\u001b[31m---------------------------------------------------------------------------\u001b[39m",
      "\u001b[31mNameError\u001b[39m                                 Traceback (most recent call last)",
      "\u001b[36mCell\u001b[39m\u001b[36m \u001b[39m\u001b[32mIn[57]\u001b[39m\u001b[32m, line 62\u001b[39m\n\u001b[32m     50\u001b[39m all_transformations = ColumnTransformer([\n\u001b[32m     51\u001b[39m     (\u001b[33m\"\u001b[39m\u001b[33mbedrooms\u001b[39m\u001b[33m\"\u001b[39m, ratio_of_columns_pipeline(), [\u001b[33m\"\u001b[39m\u001b[33mtotal_bedrooms\u001b[39m\u001b[33m\"\u001b[39m, \u001b[33m\"\u001b[39m\u001b[33mtotal_rooms\u001b[39m\u001b[33m\"\u001b[39m]),\n\u001b[32m     52\u001b[39m     (\u001b[33m\"\u001b[39m\u001b[33mrooms_per_house\u001b[39m\u001b[33m\"\u001b[39m, ratio_of_columns_pipeline(), [\u001b[33m\"\u001b[39m\u001b[33mtotal_rooms\u001b[39m\u001b[33m\"\u001b[39m, \u001b[33m\"\u001b[39m\u001b[33mhouseholds\u001b[39m\u001b[33m\"\u001b[39m]),\n\u001b[32m   (...)\u001b[39m\u001b[32m     58\u001b[39m ],\n\u001b[32m     59\u001b[39m remainder=default_numerical_pipeline)\n\u001b[32m     61\u001b[39m \u001b[38;5;66;03m# اعمال تبدیل‌ها\u001b[39;00m\n\u001b[32m---> \u001b[39m\u001b[32m62\u001b[39m train_features_transformed = all_transformations.fit_transform(\u001b[43mX_train\u001b[49m)\n\u001b[32m     63\u001b[39m \u001b[38;5;28mprint\u001b[39m(train_features_transformed.shape)\n\u001b[32m     64\u001b[39m \u001b[38;5;28mprint\u001b[39m(all_transformations.get_feature_names_out())\n",
      "\u001b[31mNameError\u001b[39m: name 'X_train' is not defined"
     ]
    }
   ],
   "source": [
    "import numpy as np\n",
    "from sklearn.pipeline import make_pipeline\n",
    "from sklearn.compose import ColumnTransformer\n",
    "from sklearn.impute import SimpleImputer\n",
    "from sklearn.preprocessing import (\n",
    "    StandardScaler, \n",
    "    FunctionTransformer, \n",
    "    OneHotEncoder\n",
    ")\n",
    "from sklearn.kernel_approximation import RBFSampler\n",
    "\n",
    "# تعریف تمام pipeline های مورد نیاز\n",
    "def ratio_of_columns(X):\n",
    "    return X[:, [0]] / X[:, [1]]\n",
    "\n",
    "def ratio_of_columns_name(function_transformer, feature_names_in):\n",
    "    return [\"ratio\"]\n",
    "\n",
    "def ratio_of_columns_pipeline():\n",
    "    return make_pipeline(\n",
    "        SimpleImputer(strategy=\"median\"),\n",
    "        FunctionTransformer(ratio_of_columns,\n",
    "                          feature_names_out=ratio_of_columns_name),\n",
    "        StandardScaler()\n",
    "    )\n",
    "\n",
    "heavy_tail_pipeline = make_pipeline(\n",
    "    SimpleImputer(strategy=\"median\"),\n",
    "    FunctionTransformer(np.log1p, feature_names_out=\"one-to-one\"),\n",
    "    StandardScaler()\n",
    ")\n",
    "\n",
    "housing_median_age_rbf_transformer = make_pipeline(\n",
    "    SimpleImputer(strategy=\"median\"),\n",
    "    RBFSampler(gamma=1.0, n_components=100),\n",
    "    StandardScaler()\n",
    ")\n",
    "\n",
    "categorical_features_pipeline = make_pipeline(\n",
    "    SimpleImputer(strategy=\"most_frequent\"),\n",
    "    OneHotEncoder(handle_unknown=\"ignore\")\n",
    ")\n",
    "\n",
    "default_numerical_pipeline = make_pipeline(\n",
    "    SimpleImputer(strategy=\"median\"),\n",
    "    StandardScaler()\n",
    ")\n",
    "\n",
    "# تعریف ColumnTransformer\n",
    "all_transformations = ColumnTransformer([\n",
    "    (\"bedrooms\", ratio_of_columns_pipeline(), [\"total_bedrooms\", \"total_rooms\"]),\n",
    "    (\"rooms_per_house\", ratio_of_columns_pipeline(), [\"total_rooms\", \"households\"]),\n",
    "    (\"people_per_house\", ratio_of_columns_pipeline(), [\"population\", \"households\"]),\n",
    "    (\"log\", heavy_tail_pipeline, [\"total_bedrooms\", \"total_rooms\",\n",
    "                                \"population\", \"households\", \"median_income\"]),\n",
    "    (\"rbf\", housing_median_age_rbf_transformer, [\"housing_median_age\"]),\n",
    "    (\"cat\", categorical_features_pipeline, [\"ocean_proximity\"])\n",
    "],\n",
    "remainder=default_numerical_pipeline)\n",
    "\n",
    "# اعمال تبدیل‌ها\n",
    "train_features_transformed = all_transformations.fit_transform(X_train)\n",
    "print(train_features_transformed.shape)\n",
    "print(all_transformations.get_feature_names_out())"
   ]
  },
  {
   "cell_type": "code",
   "execution_count": 58,
   "id": "7f667876-855c-4625-bf55-8ac641996d7a",
   "metadata": {},
   "outputs": [],
   "source": [
    "def ratio_of_columns(X):\n",
    "  return X[:, [0]] / X[:, [1]]\n",
    "\n",
    "def ratio_of_columns_name(function_transformer, feature_names_in):\n",
    "  return [\"ratio\"]\n",
    "\n",
    "def ratio_of_columns_pipeline():\n",
    "  return make_pipeline(\n",
    "      SimpleImputer(strategy=\"median\"),\n",
    "      FunctionTransformer(ratio_of_columns,\n",
    "                          feature_names_out=ratio_of_columns_name),\n",
    "      StandardScaler()\n",
    "      \n",
    "  )"
   ]
  },
  {
   "cell_type": "code",
   "execution_count": null,
   "id": "9c168b8f-aac6-4445-bbba-9406a277219a",
   "metadata": {},
   "outputs": [],
   "source": []
  },
  {
   "cell_type": "code",
   "execution_count": 59,
   "id": "87fdd015-cb45-456b-80c5-f620292efd1c",
   "metadata": {},
   "outputs": [],
   "source": [
    "all_transformations = ColumnTransformer([\n",
    "    (\"bedrooms\", ratio_of_columns_pipeline(), [\"total_bedrooms\", \"total_rooms\"]),\n",
    "    (\"rooms_per_house\", ratio_of_columns_pipeline(), [\"total_rooms\", \"households\"]),\n",
    "    (\"people_per_house\", ratio_of_columns_pipeline(), [\"population\", \"households\"]),\n",
    "    (\"log\", heavy_tail_pipeline, [\"total_bedrooms\", \"total_rooms\",\n",
    "                                  \"population\", \"households\", \"median_income\"]),\n",
    "    (\"rbf\", housing_median_age_rbf_transformer, [\"housing_median_age\"]),\n",
    "    (\"cat\", categorical_features_pipeline, [\"ocean_proximity\"])\n",
    "    \n",
    "],\n",
    "remainder=default_numerical_pipeline)\n",
    "\n"
   ]
  },
  {
   "cell_type": "code",
   "execution_count": null,
   "id": "63c7d1d2-e70e-4508-8b83-3b631aaacdc3",
   "metadata": {},
   "outputs": [],
   "source": []
  },
  {
   "cell_type": "code",
   "execution_count": 60,
   "id": "87c6624a-9bbc-40a4-9b2e-b600c339ef55",
   "metadata": {},
   "outputs": [
    {
     "ename": "NameError",
     "evalue": "name 'train_features_transformed' is not defined",
     "output_type": "error",
     "traceback": [
      "\u001b[31m---------------------------------------------------------------------------\u001b[39m",
      "\u001b[31mNameError\u001b[39m                                 Traceback (most recent call last)",
      "\u001b[36mCell\u001b[39m\u001b[36m \u001b[39m\u001b[32mIn[60]\u001b[39m\u001b[32m, line 1\u001b[39m\n\u001b[32m----> \u001b[39m\u001b[32m1\u001b[39m \u001b[43mtrain_features_transformed\u001b[49m.shape\n",
      "\u001b[31mNameError\u001b[39m: name 'train_features_transformed' is not defined"
     ]
    }
   ],
   "source": [
    "train_features_transformed.shape"
   ]
  },
  {
   "cell_type": "code",
   "execution_count": 61,
   "id": "f3f4919c-dc9a-421e-8b54-5b51d14f23a8",
   "metadata": {},
   "outputs": [
    {
     "ename": "NotFittedError",
     "evalue": "This ColumnTransformer instance is not fitted yet. Call 'fit' with appropriate arguments before using this estimator.",
     "output_type": "error",
     "traceback": [
      "\u001b[31m---------------------------------------------------------------------------\u001b[39m",
      "\u001b[31mNotFittedError\u001b[39m                            Traceback (most recent call last)",
      "\u001b[36mCell\u001b[39m\u001b[36m \u001b[39m\u001b[32mIn[61]\u001b[39m\u001b[32m, line 1\u001b[39m\n\u001b[32m----> \u001b[39m\u001b[32m1\u001b[39m \u001b[43mall_transformations\u001b[49m\u001b[43m.\u001b[49m\u001b[43mget_feature_names_out\u001b[49m\u001b[43m(\u001b[49m\u001b[43m)\u001b[49m\n",
      "\u001b[36mFile \u001b[39m\u001b[32m~/Documents/project/machin-learning/notebookenv/lib/python3.12/site-packages/sklearn/compose/_column_transformer.py:622\u001b[39m, in \u001b[36mColumnTransformer.get_feature_names_out\u001b[39m\u001b[34m(self, input_features)\u001b[39m\n\u001b[32m    602\u001b[39m \u001b[38;5;28;01mdef\u001b[39;00m\u001b[38;5;250m \u001b[39m\u001b[34mget_feature_names_out\u001b[39m(\u001b[38;5;28mself\u001b[39m, input_features=\u001b[38;5;28;01mNone\u001b[39;00m):\n\u001b[32m    603\u001b[39m \u001b[38;5;250m    \u001b[39m\u001b[33;03m\"\"\"Get output feature names for transformation.\u001b[39;00m\n\u001b[32m    604\u001b[39m \n\u001b[32m    605\u001b[39m \u001b[33;03m    Parameters\u001b[39;00m\n\u001b[32m   (...)\u001b[39m\u001b[32m    620\u001b[39m \u001b[33;03m        Transformed feature names.\u001b[39;00m\n\u001b[32m    621\u001b[39m \u001b[33;03m    \"\"\"\u001b[39;00m\n\u001b[32m--> \u001b[39m\u001b[32m622\u001b[39m     \u001b[43mcheck_is_fitted\u001b[49m\u001b[43m(\u001b[49m\u001b[38;5;28;43mself\u001b[39;49m\u001b[43m)\u001b[49m\n\u001b[32m    623\u001b[39m     input_features = _check_feature_names_in(\u001b[38;5;28mself\u001b[39m, input_features)\n\u001b[32m    625\u001b[39m     \u001b[38;5;66;03m# List of tuples (name, feature_names_out)\u001b[39;00m\n",
      "\u001b[36mFile \u001b[39m\u001b[32m~/Documents/project/machin-learning/notebookenv/lib/python3.12/site-packages/sklearn/utils/validation.py:1754\u001b[39m, in \u001b[36mcheck_is_fitted\u001b[39m\u001b[34m(estimator, attributes, msg, all_or_any)\u001b[39m\n\u001b[32m   1751\u001b[39m     \u001b[38;5;28;01mreturn\u001b[39;00m\n\u001b[32m   1753\u001b[39m \u001b[38;5;28;01mif\u001b[39;00m \u001b[38;5;129;01mnot\u001b[39;00m _is_fitted(estimator, attributes, all_or_any):\n\u001b[32m-> \u001b[39m\u001b[32m1754\u001b[39m     \u001b[38;5;28;01mraise\u001b[39;00m NotFittedError(msg % {\u001b[33m\"\u001b[39m\u001b[33mname\u001b[39m\u001b[33m\"\u001b[39m: \u001b[38;5;28mtype\u001b[39m(estimator).\u001b[34m__name__\u001b[39m})\n",
      "\u001b[31mNotFittedError\u001b[39m: This ColumnTransformer instance is not fitted yet. Call 'fit' with appropriate arguments before using this estimator."
     ]
    }
   ],
   "source": [
    "all_transformations.get_feature_names_out()"
   ]
  },
  {
   "cell_type": "code",
   "execution_count": 62,
   "id": "f0dfe6d7-b96c-4c2f-8d60-c0ac1fbf5ad7",
   "metadata": {},
   "outputs": [
    {
     "data": {
      "text/plain": [
       "'1.7.0'"
      ]
     },
     "execution_count": 62,
     "metadata": {},
     "output_type": "execute_result"
    }
   ],
   "source": [
    "import sklearn\n",
    "sklearn.__version__"
   ]
  },
  {
   "cell_type": "code",
   "execution_count": 63,
   "id": "16fb7aa9-5897-457d-bec3-cad57224eaaf",
   "metadata": {},
   "outputs": [],
   "source": [
    "from sklearn.linear_model import LinearRegression"
   ]
  },
  {
   "cell_type": "code",
   "execution_count": 64,
   "id": "8e1ca876-edae-4364-b1f4-959f0109d119",
   "metadata": {},
   "outputs": [],
   "source": [
    "linear_regression_pipeline=make_pipeline(all_transformations,\n",
    "                                             LinearRegression)"
   ]
  },
  {
   "cell_type": "code",
   "execution_count": 65,
   "id": "ebccf6ca-481a-4323-848b-962fb5b3b63b",
   "metadata": {},
   "outputs": [
    {
     "ename": "NameError",
     "evalue": "name 'train_features' is not defined",
     "output_type": "error",
     "traceback": [
      "\u001b[31m---------------------------------------------------------------------------\u001b[39m",
      "\u001b[31mNameError\u001b[39m                                 Traceback (most recent call last)",
      "\u001b[36mCell\u001b[39m\u001b[36m \u001b[39m\u001b[32mIn[65]\u001b[39m\u001b[32m, line 1\u001b[39m\n\u001b[32m----> \u001b[39m\u001b[32m1\u001b[39m linear_regression_pipeline.fit(\u001b[43mtrain_features\u001b[49m, train_target)\n",
      "\u001b[31mNameError\u001b[39m: name 'train_features' is not defined"
     ]
    }
   ],
   "source": [
    "linear_regression_pipeline.fit(train_features, train_target)"
   ]
  },
  {
   "cell_type": "code",
   "execution_count": 66,
   "id": "690252ae-ac66-43ef-8349-d3faf95f78dd",
   "metadata": {},
   "outputs": [
    {
     "ename": "AttributeError",
     "evalue": "'Pipeline' object has no attribute 'predic'",
     "output_type": "error",
     "traceback": [
      "\u001b[31m---------------------------------------------------------------------------\u001b[39m",
      "\u001b[31mAttributeError\u001b[39m                            Traceback (most recent call last)",
      "\u001b[36mCell\u001b[39m\u001b[36m \u001b[39m\u001b[32mIn[66]\u001b[39m\u001b[32m, line 1\u001b[39m\n\u001b[32m----> \u001b[39m\u001b[32m1\u001b[39m house_value_prediction=\u001b[43mlinear_regression_pipeline\u001b[49m\u001b[43m.\u001b[49m\u001b[43mpredic\u001b[49m(train_features)\n",
      "\u001b[31mAttributeError\u001b[39m: 'Pipeline' object has no attribute 'predic'"
     ]
    }
   ],
   "source": [
    "house_value_prediction=linear_regression_pipeline.predic(train_features)"
   ]
  },
  {
   "cell_type": "code",
   "execution_count": 67,
   "id": "d21bdd0a-15de-47ff-94ad-bd9910c46c1a",
   "metadata": {},
   "outputs": [
    {
     "ename": "NameError",
     "evalue": "name 'house_value_prediction' is not defined",
     "output_type": "error",
     "traceback": [
      "\u001b[31m---------------------------------------------------------------------------\u001b[39m",
      "\u001b[31mNameError\u001b[39m                                 Traceback (most recent call last)",
      "\u001b[36mCell\u001b[39m\u001b[36m \u001b[39m\u001b[32mIn[67]\u001b[39m\u001b[32m, line 1\u001b[39m\n\u001b[32m----> \u001b[39m\u001b[32m1\u001b[39m \u001b[43mhouse_value_prediction\u001b[49m\n",
      "\u001b[31mNameError\u001b[39m: name 'house_value_prediction' is not defined"
     ]
    }
   ],
   "source": [
    "house_value_prediction"
   ]
  },
  {
   "cell_type": "code",
   "execution_count": 68,
   "id": "9c626094-96bd-4389-b752-61d10da19482",
   "metadata": {},
   "outputs": [
    {
     "ename": "NameError",
     "evalue": "name 'train_target' is not defined",
     "output_type": "error",
     "traceback": [
      "\u001b[31m---------------------------------------------------------------------------\u001b[39m",
      "\u001b[31mNameError\u001b[39m                                 Traceback (most recent call last)",
      "\u001b[36mCell\u001b[39m\u001b[36m \u001b[39m\u001b[32mIn[68]\u001b[39m\u001b[32m, line 1\u001b[39m\n\u001b[32m----> \u001b[39m\u001b[32m1\u001b[39m \u001b[43mtrain_target\u001b[49m.values\n",
      "\u001b[31mNameError\u001b[39m: name 'train_target' is not defined"
     ]
    }
   ],
   "source": [
    "train_target.values"
   ]
  },
  {
   "cell_type": "code",
   "execution_count": 69,
   "id": "5f46d13b-cd8f-4538-b306-d2f9438a891f",
   "metadata": {},
   "outputs": [],
   "source": [
    "from sklearn.metrics import mean_absolute_error, mean_squared_error"
   ]
  },
  {
   "cell_type": "code",
   "execution_count": 70,
   "id": "d79125a7-0fa6-409f-8173-f0a87401b514",
   "metadata": {},
   "outputs": [
    {
     "ename": "NameError",
     "evalue": "name 'train_target' is not defined",
     "output_type": "error",
     "traceback": [
      "\u001b[31m---------------------------------------------------------------------------\u001b[39m",
      "\u001b[31mNameError\u001b[39m                                 Traceback (most recent call last)",
      "\u001b[36mCell\u001b[39m\u001b[36m \u001b[39m\u001b[32mIn[70]\u001b[39m\u001b[32m, line 1\u001b[39m\n\u001b[32m----> \u001b[39m\u001b[32m1\u001b[39m mean_absolute_error(\u001b[43mtrain_target\u001b[49m.values, house_value_prediction)\n",
      "\u001b[31mNameError\u001b[39m: name 'train_target' is not defined"
     ]
    }
   ],
   "source": [
    "mean_absolute_error(train_target.values, house_value_prediction)"
   ]
  },
  {
   "cell_type": "code",
   "execution_count": 71,
   "id": "d93eddc7-ab27-43ed-8696-76fcc21646e4",
   "metadata": {},
   "outputs": [
    {
     "ename": "NameError",
     "evalue": "name 'train_target' is not defined",
     "output_type": "error",
     "traceback": [
      "\u001b[31m---------------------------------------------------------------------------\u001b[39m",
      "\u001b[31mNameError\u001b[39m                                 Traceback (most recent call last)",
      "\u001b[36mCell\u001b[39m\u001b[36m \u001b[39m\u001b[32mIn[71]\u001b[39m\u001b[32m, line 1\u001b[39m\n\u001b[32m----> \u001b[39m\u001b[32m1\u001b[39m mean_squared_error(\u001b[43mtrain_target\u001b[49m.values, house_value_prediction, \n\u001b[32m      2\u001b[39m                   squared=\u001b[38;5;28;01mFalse\u001b[39;00m)\n",
      "\u001b[31mNameError\u001b[39m: name 'train_target' is not defined"
     ]
    }
   ],
   "source": [
    "mean_squared_error(train_target.values, house_value_prediction, \n",
    "                  squared=False)"
   ]
  },
  {
   "cell_type": "code",
   "execution_count": 72,
   "id": "8837e543-29e3-4ceb-84f2-d2040a4ec5bd",
   "metadata": {},
   "outputs": [
    {
     "ename": "NameError",
     "evalue": "name 'r2_squared_error' is not defined",
     "output_type": "error",
     "traceback": [
      "\u001b[31m---------------------------------------------------------------------------\u001b[39m",
      "\u001b[31mNameError\u001b[39m                                 Traceback (most recent call last)",
      "\u001b[36mCell\u001b[39m\u001b[36m \u001b[39m\u001b[32mIn[72]\u001b[39m\u001b[32m, line 1\u001b[39m\n\u001b[32m----> \u001b[39m\u001b[32m1\u001b[39m \u001b[43mr2_squared_error\u001b[49m(train_target.values, house_value_prediction)\n",
      "\u001b[31mNameError\u001b[39m: name 'r2_squared_error' is not defined"
     ]
    }
   ],
   "source": [
    "r2_squared_error(train_target.values, house_value_prediction)"
   ]
  },
  {
   "cell_type": "code",
   "execution_count": 73,
   "id": "1e14ac32-4ea2-4171-859c-b3b1cc865998",
   "metadata": {},
   "outputs": [],
   "source": [
    "from sklearn.tree import DecisionTreeRegressor"
   ]
  },
  {
   "cell_type": "code",
   "execution_count": 74,
   "id": "95b91e99-b3f9-4b47-80ea-edcbef4c6f7d",
   "metadata": {},
   "outputs": [],
   "source": [
    "dt_regression_pipeline= make_pipeline(all_transformations, LinearRegression())"
   ]
  },
  {
   "cell_type": "code",
   "execution_count": 75,
   "id": "7e2c9bc1-27b4-42ef-80d6-a484f2560db4",
   "metadata": {},
   "outputs": [
    {
     "ename": "NameError",
     "evalue": "name 'train_target' is not defined",
     "output_type": "error",
     "traceback": [
      "\u001b[31m---------------------------------------------------------------------------\u001b[39m",
      "\u001b[31mNameError\u001b[39m                                 Traceback (most recent call last)",
      "\u001b[36mCell\u001b[39m\u001b[36m \u001b[39m\u001b[32mIn[75]\u001b[39m\u001b[32m, line 1\u001b[39m\n\u001b[32m----> \u001b[39m\u001b[32m1\u001b[39m mean_absolute_error(\u001b[43mtrain_target\u001b[49m.values, dt_regression_pipeline.predict(train_features))\n",
      "\u001b[31mNameError\u001b[39m: name 'train_target' is not defined"
     ]
    }
   ],
   "source": [
    "mean_absolute_error(train_target.values, dt_regression_pipeline.predict(train_features))"
   ]
  },
  {
   "cell_type": "code",
   "execution_count": 76,
   "id": "3326ae65-caff-49c7-8a6c-5d7520fd96dd",
   "metadata": {},
   "outputs": [
    {
     "ename": "NameError",
     "evalue": "name 'r2_score' is not defined",
     "output_type": "error",
     "traceback": [
      "\u001b[31m---------------------------------------------------------------------------\u001b[39m",
      "\u001b[31mNameError\u001b[39m                                 Traceback (most recent call last)",
      "\u001b[36mCell\u001b[39m\u001b[36m \u001b[39m\u001b[32mIn[76]\u001b[39m\u001b[32m, line 1\u001b[39m\n\u001b[32m----> \u001b[39m\u001b[32m1\u001b[39m \u001b[43mr2_score\u001b[49m(train_target.values, dt_regression_pipeline.predict(train_features))\n",
      "\u001b[31mNameError\u001b[39m: name 'r2_score' is not defined"
     ]
    }
   ],
   "source": [
    "r2_score(train_target.values, dt_regression_pipeline.predict(train_features))"
   ]
  },
  {
   "cell_type": "code",
   "execution_count": 77,
   "id": "b8c15129-1f52-4004-a01f-e2925793da51",
   "metadata": {},
   "outputs": [],
   "source": [
    "from sklearn.model_selection import cross_val_score"
   ]
  },
  {
   "cell_type": "code",
   "execution_count": 78,
   "id": "967a9cba-1425-4b8b-9410-98a96ca35d58",
   "metadata": {},
   "outputs": [
    {
     "ename": "NameError",
     "evalue": "name 'train_features' is not defined",
     "output_type": "error",
     "traceback": [
      "\u001b[31m---------------------------------------------------------------------------\u001b[39m",
      "\u001b[31mNameError\u001b[39m                                 Traceback (most recent call last)",
      "\u001b[36mCell\u001b[39m\u001b[36m \u001b[39m\u001b[32mIn[78]\u001b[39m\u001b[32m, line 1\u001b[39m\n\u001b[32m----> \u001b[39m\u001b[32m1\u001b[39m dt_mae=-cross_val_score(dt_regression_pipeline,\u001b[43mtrain_features\u001b[49m, train_target, scoring=\u001b[33m\"\u001b[39m\u001b[33mneg_mean_absolute_error\u001b[39m\u001b[33m\"\u001b[39m, cv=\u001b[32m5\u001b[39m)\n",
      "\u001b[31mNameError\u001b[39m: name 'train_features' is not defined"
     ]
    }
   ],
   "source": [
    "dt_mae=-cross_val_score(dt_regression_pipeline,train_features, train_target, scoring=\"neg_mean_absolute_error\", cv=5)"
   ]
  },
  {
   "cell_type": "code",
   "execution_count": 79,
   "id": "6897b1a2-5986-4675-9283-d82d671dce70",
   "metadata": {},
   "outputs": [
    {
     "ename": "NameError",
     "evalue": "name 'dt_mae' is not defined",
     "output_type": "error",
     "traceback": [
      "\u001b[31m---------------------------------------------------------------------------\u001b[39m",
      "\u001b[31mNameError\u001b[39m                                 Traceback (most recent call last)",
      "\u001b[36mCell\u001b[39m\u001b[36m \u001b[39m\u001b[32mIn[79]\u001b[39m\u001b[32m, line 1\u001b[39m\n\u001b[32m----> \u001b[39m\u001b[32m1\u001b[39m \u001b[43mdt_mae\u001b[49m\n",
      "\u001b[31mNameError\u001b[39m: name 'dt_mae' is not defined"
     ]
    }
   ],
   "source": [
    "dt_mae"
   ]
  },
  {
   "cell_type": "code",
   "execution_count": 80,
   "id": "4e7d3805-33a1-4eda-94d8-35bb0d4c6cb4",
   "metadata": {},
   "outputs": [
    {
     "ename": "NameError",
     "evalue": "name 'dt_mae' is not defined",
     "output_type": "error",
     "traceback": [
      "\u001b[31m---------------------------------------------------------------------------\u001b[39m",
      "\u001b[31mNameError\u001b[39m                                 Traceback (most recent call last)",
      "\u001b[36mCell\u001b[39m\u001b[36m \u001b[39m\u001b[32mIn[80]\u001b[39m\u001b[32m, line 1\u001b[39m\n\u001b[32m----> \u001b[39m\u001b[32m1\u001b[39m pd.Series(\u001b[43mdt_mae\u001b[49m).describe()\n",
      "\u001b[31mNameError\u001b[39m: name 'dt_mae' is not defined"
     ]
    }
   ],
   "source": [
    "pd.Series(dt_mae).describe()"
   ]
  },
  {
   "cell_type": "code",
   "execution_count": null,
   "id": "ef1b57d4-99d1-451b-bb6c-ca6aeff49405",
   "metadata": {},
   "outputs": [],
   "source": []
  }
 ],
 "metadata": {
  "kernelspec": {
   "display_name": "Python 3 (ipykernel)",
   "language": "python",
   "name": "python3"
  },
  "language_info": {
   "codemirror_mode": {
    "name": "ipython",
    "version": 3
   },
   "file_extension": ".py",
   "mimetype": "text/x-python",
   "name": "python",
   "nbconvert_exporter": "python",
   "pygments_lexer": "ipython3",
   "version": "3.12.3"
  }
 },
 "nbformat": 4,
 "nbformat_minor": 5
}
